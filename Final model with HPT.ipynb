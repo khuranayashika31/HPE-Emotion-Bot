{
 "cells": [
  {
   "cell_type": "code",
   "execution_count": 3,
   "metadata": {},
   "outputs": [],
   "source": [
    "import tensorflow as tf\n",
    "import tensorflow as tf\n",
    "from tensorflow import keras\n",
    "import numpy as np\n",
    "from keras.models import Sequential\n",
    "from keras.layers import Dense , Activation , Dropout ,Flatten\n",
    "from keras.layers.convolutional import Conv2D\n",
    "from keras.layers.convolutional import MaxPooling2D\n",
    "from keras.metrics import categorical_accuracy\n",
    "from keras.models import model_from_json\n",
    "from keras.callbacks import ModelCheckpoint\n",
    "from keras.optimizers import *\n",
    "from keras.layers.normalization import BatchNormalization"
   ]
  },
  {
   "cell_type": "code",
   "execution_count": 4,
   "metadata": {},
   "outputs": [
    {
     "data": {
      "text/plain": [
       "'2.4.1'"
      ]
     },
     "execution_count": 4,
     "metadata": {},
     "output_type": "execute_result"
    }
   ],
   "source": [
    "tf.__version__"
   ]
  },
  {
   "cell_type": "code",
   "execution_count": 5,
   "metadata": {},
   "outputs": [],
   "source": [
    "import pandas as pd\n",
    "import os\n",
    "import numpy as np\n",
    "import cv2\n",
    "import PIL\n",
    "from PIL import Image\n",
    "import matplotlib.pyplot as plt"
   ]
  },
  {
   "cell_type": "code",
   "execution_count": 6,
   "metadata": {},
   "outputs": [],
   "source": [
    "data=[]\n",
    "labels=[]\n"
   ]
  },
  {
   "cell_type": "code",
   "execution_count": 7,
   "metadata": {},
   "outputs": [],
   "source": [
    "for filename in os.listdir(\"happy pp\"):\n",
    "    frame=\"happy pp/\"+filename\n",
    "    \n",
    "    if frame=='happy pp/.DS_Store':\n",
    "        pass\n",
    "    else:\n",
    "    #print(filename)\n",
    "        i=Image.open(\"happy pp/\"+filename)\n",
    "        im=np.asarray(i)\n",
    "        data.append(im)\n",
    "        labels.append(filename+\"_1\")"
   ]
  },
  {
   "cell_type": "code",
   "execution_count": 8,
   "metadata": {},
   "outputs": [],
   "source": [
    "for filename in os.listdir(\"scare pp\"):\n",
    "    frame=\"scare pp/\"+filename\n",
    "    \n",
    "    if frame=='scare pp/.DS_Store':\n",
    "        pass\n",
    "    else:\n",
    "    #print(filename)\n",
    "        i=Image.open(\"scare pp/\"+filename)\n",
    "        im=np.asarray(i)\n",
    "        data.append(im)\n",
    "        labels.append(filename+\"_2\")"
   ]
  },
  {
   "cell_type": "code",
   "execution_count": 9,
   "metadata": {},
   "outputs": [],
   "source": [
    "for filename in os.listdir(\"sad pp\"):\n",
    "    frame=\"sad pp/\"+filename\n",
    "    \n",
    "    if frame=='sad pp/.DS_Store':\n",
    "        pass\n",
    "    else:\n",
    "    #print(filename)\n",
    "        i=Image.open(\"sad pp/\"+filename)\n",
    "        im=np.asarray(i)\n",
    "        data.append(im)\n",
    "        labels.append(filename+\"_3\")"
   ]
  },
  {
   "cell_type": "code",
   "execution_count": 10,
   "metadata": {},
   "outputs": [],
   "source": [
    "for filename in os.listdir(\"angry pp\"):\n",
    "    frame=\"angry pp/\"+filename\n",
    "    \n",
    "    if frame=='angry pp/.DS_Store':\n",
    "        pass\n",
    "    else:\n",
    "    #print(filename)\n",
    "        i=Image.open(\"angry pp/\"+filename)\n",
    "        im=np.asarray(i)\n",
    "        data.append(im)\n",
    "        labels.append(filename+\"_4\")"
   ]
  },
  {
   "cell_type": "code",
   "execution_count": 11,
   "metadata": {},
   "outputs": [],
   "source": [
    "for filename in os.listdir(\"neutral pp\"):\n",
    "    frame=\"neutral pp/\"+filename\n",
    "    \n",
    "    if frame=='neutral pp/.DS_Store':\n",
    "        pass\n",
    "    else:\n",
    "    #print(filename)\n",
    "        i=Image.open(\"neutral pp/\"+filename)\n",
    "        im=np.asarray(i)\n",
    "        data.append(im)\n",
    "        labels.append(filename+\"_5\")"
   ]
  },
  {
   "cell_type": "code",
   "execution_count": 12,
   "metadata": {},
   "outputs": [],
   "source": [
    "data=np.asarray(data)"
   ]
  },
  {
   "cell_type": "code",
   "execution_count": 13,
   "metadata": {},
   "outputs": [],
   "source": [
    "data=data[:,:,:,-1]"
   ]
  },
  {
   "cell_type": "code",
   "execution_count": 14,
   "metadata": {},
   "outputs": [],
   "source": [
    "emotion=[]\n",
    "for i in range(len(labels)):\n",
    "    emotion.append(labels[i][-1])"
   ]
  },
  {
   "cell_type": "code",
   "execution_count": 15,
   "metadata": {},
   "outputs": [],
   "source": [
    "lis=[]\n",
    "for i in range(len(data)):\n",
    "    d=data[i].flatten()\n",
    "    lis.append(d)\n",
    "    "
   ]
  },
  {
   "cell_type": "code",
   "execution_count": 16,
   "metadata": {},
   "outputs": [],
   "source": [
    "df = pd.DataFrame(list(zip(lis, emotion)), \n",
    "               columns =['Image', 'Label'])"
   ]
  },
  {
   "cell_type": "code",
   "execution_count": 17,
   "metadata": {},
   "outputs": [],
   "source": [
    "from sklearn.utils import shuffle\n",
    "df = shuffle(df)"
   ]
  },
  {
   "cell_type": "code",
   "execution_count": 18,
   "metadata": {},
   "outputs": [],
   "source": [
    "from sklearn.model_selection import train_test_split"
   ]
  },
  {
   "cell_type": "code",
   "execution_count": 19,
   "metadata": {},
   "outputs": [],
   "source": [
    "trainx,testx,trainy,testy=train_test_split(df[\"Image\"], df[\"Label\"], train_size=0.8,test_size=0.2)"
   ]
  },
  {
   "cell_type": "code",
   "execution_count": 20,
   "metadata": {},
   "outputs": [],
   "source": [
    "trainx=np.asarray(trainx)"
   ]
  },
  {
   "cell_type": "code",
   "execution_count": 21,
   "metadata": {},
   "outputs": [],
   "source": [
    "traindata=[]\n",
    "for i in range (len(trainx)):\n",
    "    trx=trainx[i].reshape((64,64))\n",
    "    traindata.append(trx)"
   ]
  },
  {
   "cell_type": "code",
   "execution_count": 22,
   "metadata": {},
   "outputs": [],
   "source": [
    "traindata=np.asarray(traindata)"
   ]
  },
  {
   "cell_type": "code",
   "execution_count": 23,
   "metadata": {},
   "outputs": [
    {
     "data": {
      "text/plain": [
       "(4346, 64, 64)"
      ]
     },
     "execution_count": 23,
     "metadata": {},
     "output_type": "execute_result"
    }
   ],
   "source": [
    "traindata.shape"
   ]
  },
  {
   "cell_type": "code",
   "execution_count": 24,
   "metadata": {},
   "outputs": [],
   "source": [
    "traindata=traindata.reshape(len(traindata),64,64,1)"
   ]
  },
  {
   "cell_type": "code",
   "execution_count": 25,
   "metadata": {},
   "outputs": [],
   "source": [
    "trainy=trainy.astype(\"uint8\")"
   ]
  },
  {
   "cell_type": "code",
   "execution_count": 26,
   "metadata": {},
   "outputs": [],
   "source": [
    "trainy=np.asarray(trainy)"
   ]
  },
  {
   "cell_type": "code",
   "execution_count": 27,
   "metadata": {},
   "outputs": [
    {
     "data": {
      "text/plain": [
       "numpy.ndarray"
      ]
     },
     "execution_count": 27,
     "metadata": {},
     "output_type": "execute_result"
    }
   ],
   "source": [
    "type(trainy)"
   ]
  },
  {
   "cell_type": "code",
   "execution_count": 29,
   "metadata": {},
   "outputs": [
    {
     "data": {
      "text/plain": [
       "array([3, 2, 4, ..., 3, 3, 4], dtype=uint8)"
      ]
     },
     "execution_count": 29,
     "metadata": {},
     "output_type": "execute_result"
    }
   ],
   "source": [
    "trainy"
   ]
  },
  {
   "cell_type": "code",
   "execution_count": 30,
   "metadata": {},
   "outputs": [
    {
     "name": "stdout",
     "output_type": "stream",
     "text": [
      "Requirement already satisfied: keras in /Library/Frameworks/Python.framework/Versions/3.8/lib/python3.8/site-packages (2.4.3)\n",
      "Requirement already satisfied: numpy>=1.9.1 in /Library/Frameworks/Python.framework/Versions/3.8/lib/python3.8/site-packages (from keras) (1.19.5)\n",
      "Requirement already satisfied: h5py in /Library/Frameworks/Python.framework/Versions/3.8/lib/python3.8/site-packages (from keras) (2.10.0)\n",
      "Requirement already satisfied: pyyaml in /Library/Frameworks/Python.framework/Versions/3.8/lib/python3.8/site-packages (from keras) (5.3.1)\n",
      "Requirement already satisfied: scipy>=0.14 in /Library/Frameworks/Python.framework/Versions/3.8/lib/python3.8/site-packages (from keras) (1.4.1)\n",
      "Requirement already satisfied: six in /Library/Frameworks/Python.framework/Versions/3.8/lib/python3.8/site-packages (from h5py->keras) (1.15.0)\n",
      "\u001b[33mWARNING: You are using pip version 21.0; however, version 21.0.1 is available.\n",
      "You should consider upgrading via the '/Library/Frameworks/Python.framework/Versions/3.8/bin/python3 -m pip install --upgrade pip' command.\u001b[0m\n"
     ]
    }
   ],
   "source": [
    "!pip install keras"
   ]
  },
  {
   "cell_type": "code",
   "execution_count": 31,
   "metadata": {},
   "outputs": [],
   "source": [
    "import keras"
   ]
  },
  {
   "cell_type": "code",
   "execution_count": 45,
   "metadata": {},
   "outputs": [],
   "source": [
    "def build_model(hp):  \n",
    "  model = keras.Sequential([\n",
    "    keras.layers.Conv2D(\n",
    "        filters=hp.Int('conv_1_filter', min_value=32, max_value=128, step=16),\n",
    "        kernel_size=hp.Choice('conv_1_kernel', values = [3,5]),\n",
    "        activation='relu',\n",
    "        input_shape=(64,64,1)\n",
    "    ),\n",
    "    keras.layers.Conv2D(\n",
    "        filters=hp.Int('conv_2_filter', min_value=32, max_value=64, step=16),\n",
    "        kernel_size=hp.Choice('conv_2_kernel', values = [3,5]),\n",
    "        activation='relu'\n",
    "    ),\n",
    "    keras.layers.BatchNormalization(),\n",
    "    keras.layers.Activation(activation='relu'),\n",
    "    keras.layers.MaxPooling2D(pool_size=(2, 2)),\n",
    "    keras.layers.Dropout(rate=0.2),\n",
    "      \n",
    "      \n",
    "    keras.layers.Conv2D(\n",
    "        filters=hp.Int('conv_3_filter', min_value=64, max_value=256, step=16),\n",
    "        kernel_size=hp.Choice('conv_3_kernel', values = [3,5]),\n",
    "        activation='relu'\n",
    "    ),\n",
    "      \n",
    "    keras.layers.Conv2D(\n",
    "        filters=hp.Int('conv_4_filter', min_value=32, max_value=128, step=16),\n",
    "        kernel_size=hp.Choice('conv_4_kernel', values = [3,5]),\n",
    "        activation='relu'\n",
    "    ),\n",
    "    keras.layers.BatchNormalization(),\n",
    "    keras.layers.Activation(activation='relu'),\n",
    "    keras.layers.MaxPooling2D(pool_size=(2, 2)),\n",
    "    keras.layers.Dropout(rate=0.2),\n",
    "      \n",
    "    \n",
    "    keras.layers.Conv2D(\n",
    "        filters=hp.Int('conv_5_filter', min_value=32, max_value=128, step=16),\n",
    "        kernel_size=hp.Choice('conv_5_kernel', values = [3,5]),\n",
    "        activation='relu'\n",
    "    ),\n",
    "    keras.layers.Conv2D(\n",
    "        filters=hp.Int('conv_6_filter', min_value=32, max_value=64, step=16),\n",
    "        kernel_size=hp.Choice('conv_6_kernel', values = [3,5]),\n",
    "        activation='relu'\n",
    "    ),\n",
    "    keras.layers.BatchNormalization(),\n",
    "    keras.layers.Activation(activation='relu'),\n",
    "    keras.layers.MaxPooling2D(pool_size=(2, 2)),\n",
    "    keras.layers.Dropout(rate=0.2),\n",
    "    \n",
    "    \n",
    "      \n",
    "      \n",
    "    keras.layers.Flatten(),\n",
    "    keras.layers.Dense(\n",
    "        units=hp.Int('dense_1_units', min_value=32, max_value=128, step=16),\n",
    "        activation='relu'\n",
    "    ),\n",
    "    keras.layers.Dense(6, activation='softmax')\n",
    "  ])\n",
    "  \n",
    "  model.compile(optimizer=keras.optimizers.Adam(hp.Choice('learning_rate', values=[1e-2, 1e-3])),\n",
    "              loss='sparse_categorical_crossentropy',\n",
    "              metrics=['accuracy'])\n",
    "  \n",
    "  return model"
   ]
  },
  {
   "cell_type": "code",
   "execution_count": 46,
   "metadata": {},
   "outputs": [],
   "source": [
    "from kerastuner import RandomSearch\n",
    "from kerastuner.engine.hyperparameters import HyperParameters"
   ]
  },
  {
   "cell_type": "code",
   "execution_count": 47,
   "metadata": {},
   "outputs": [],
   "source": [
    "tuner_search=RandomSearch(build_model,\n",
    "                          objective='val_accuracy',\n",
    "                          max_trials=20,directory='output',project_name=\"ProjectHP\")"
   ]
  },
  {
   "cell_type": "code",
   "execution_count": 48,
   "metadata": {
    "scrolled": true
   },
   "outputs": [
    {
     "name": "stdout",
     "output_type": "stream",
     "text": [
      "Trial 20 Complete [00h 05m 04s]\n",
      "val_accuracy: 0.2896551787853241\n",
      "\n",
      "Best val_accuracy So Far: 0.3977011442184448\n",
      "Total elapsed time: 02h 28m 12s\n",
      "INFO:tensorflow:Oracle triggered exit\n"
     ]
    }
   ],
   "source": [
    "tuner_search.search(traindata,trainy,epochs=3,validation_split=0.1)"
   ]
  },
  {
   "cell_type": "code",
   "execution_count": 49,
   "metadata": {},
   "outputs": [],
   "source": [
    "model=tuner_search.get_best_models(num_models=1)[0]"
   ]
  },
  {
   "cell_type": "code",
   "execution_count": 50,
   "metadata": {},
   "outputs": [
    {
     "name": "stdout",
     "output_type": "stream",
     "text": [
      "Model: \"sequential\"\n",
      "_________________________________________________________________\n",
      "Layer (type)                 Output Shape              Param #   \n",
      "=================================================================\n",
      "conv2d (Conv2D)              (None, 62, 62, 64)        640       \n",
      "_________________________________________________________________\n",
      "conv2d_1 (Conv2D)            (None, 58, 58, 48)        76848     \n",
      "_________________________________________________________________\n",
      "batch_normalization (BatchNo (None, 58, 58, 48)        192       \n",
      "_________________________________________________________________\n",
      "activation (Activation)      (None, 58, 58, 48)        0         \n",
      "_________________________________________________________________\n",
      "max_pooling2d (MaxPooling2D) (None, 29, 29, 48)        0         \n",
      "_________________________________________________________________\n",
      "dropout (Dropout)            (None, 29, 29, 48)        0         \n",
      "_________________________________________________________________\n",
      "conv2d_2 (Conv2D)            (None, 27, 27, 144)       62352     \n",
      "_________________________________________________________________\n",
      "conv2d_3 (Conv2D)            (None, 25, 25, 48)        62256     \n",
      "_________________________________________________________________\n",
      "batch_normalization_1 (Batch (None, 25, 25, 48)        192       \n",
      "_________________________________________________________________\n",
      "activation_1 (Activation)    (None, 25, 25, 48)        0         \n",
      "_________________________________________________________________\n",
      "max_pooling2d_1 (MaxPooling2 (None, 12, 12, 48)        0         \n",
      "_________________________________________________________________\n",
      "dropout_1 (Dropout)          (None, 12, 12, 48)        0         \n",
      "_________________________________________________________________\n",
      "conv2d_4 (Conv2D)            (None, 8, 8, 80)          96080     \n",
      "_________________________________________________________________\n",
      "conv2d_5 (Conv2D)            (None, 4, 4, 48)          96048     \n",
      "_________________________________________________________________\n",
      "batch_normalization_2 (Batch (None, 4, 4, 48)          192       \n",
      "_________________________________________________________________\n",
      "activation_2 (Activation)    (None, 4, 4, 48)          0         \n",
      "_________________________________________________________________\n",
      "max_pooling2d_2 (MaxPooling2 (None, 2, 2, 48)          0         \n",
      "_________________________________________________________________\n",
      "dropout_2 (Dropout)          (None, 2, 2, 48)          0         \n",
      "_________________________________________________________________\n",
      "flatten (Flatten)            (None, 192)               0         \n",
      "_________________________________________________________________\n",
      "dense (Dense)                (None, 96)                18528     \n",
      "_________________________________________________________________\n",
      "dense_1 (Dense)              (None, 6)                 582       \n",
      "=================================================================\n",
      "Total params: 413,910\n",
      "Trainable params: 413,622\n",
      "Non-trainable params: 288\n",
      "_________________________________________________________________\n"
     ]
    }
   ],
   "source": [
    "model.summary()"
   ]
  },
  {
   "cell_type": "code",
   "execution_count": 51,
   "metadata": {},
   "outputs": [
    {
     "name": "stdout",
     "output_type": "stream",
     "text": [
      "Epoch 4/40\n",
      "123/123 [==============================] - 110s 886ms/step - loss: 1.3320 - accuracy: 0.4497 - val_loss: 1.4646 - val_accuracy: 0.3885\n",
      "Epoch 5/40\n",
      "123/123 [==============================] - 104s 846ms/step - loss: 1.2561 - accuracy: 0.5089 - val_loss: 1.6355 - val_accuracy: 0.2621\n",
      "Epoch 6/40\n",
      "123/123 [==============================] - 104s 847ms/step - loss: 1.2130 - accuracy: 0.5203 - val_loss: 1.3990 - val_accuracy: 0.4138\n",
      "Epoch 7/40\n",
      "123/123 [==============================] - 105s 854ms/step - loss: 1.1609 - accuracy: 0.5520 - val_loss: 1.2738 - val_accuracy: 0.5034\n",
      "Epoch 8/40\n",
      "123/123 [==============================] - 105s 851ms/step - loss: 1.0960 - accuracy: 0.5596 - val_loss: 1.7637 - val_accuracy: 0.3494\n",
      "Epoch 9/40\n",
      "123/123 [==============================] - 106s 860ms/step - loss: 1.0467 - accuracy: 0.5882 - val_loss: 1.3091 - val_accuracy: 0.4966\n",
      "Epoch 10/40\n",
      "123/123 [==============================] - 88s 713ms/step - loss: 1.0207 - accuracy: 0.6009 - val_loss: 1.2895 - val_accuracy: 0.5034\n",
      "Epoch 11/40\n",
      "123/123 [==============================] - 1785s 15s/step - loss: 0.9799 - accuracy: 0.6312 - val_loss: 1.8472 - val_accuracy: 0.3954\n",
      "Epoch 12/40\n",
      "123/123 [==============================] - 88s 717ms/step - loss: 0.9240 - accuracy: 0.6511 - val_loss: 1.6596 - val_accuracy: 0.3310\n",
      "Epoch 13/40\n",
      "123/123 [==============================] - 86s 698ms/step - loss: 0.9174 - accuracy: 0.6515 - val_loss: 1.1503 - val_accuracy: 0.5333\n",
      "Epoch 14/40\n",
      "123/123 [==============================] - 154s 1s/step - loss: 0.8278 - accuracy: 0.6916 - val_loss: 1.1885 - val_accuracy: 0.5701\n",
      "Epoch 15/40\n",
      "123/123 [==============================] - 86s 700ms/step - loss: 0.7683 - accuracy: 0.7213 - val_loss: 1.1288 - val_accuracy: 0.5793\n",
      "Epoch 16/40\n",
      "123/123 [==============================] - 87s 704ms/step - loss: 0.7208 - accuracy: 0.7401 - val_loss: 1.3589 - val_accuracy: 0.4966\n",
      "Epoch 17/40\n",
      "123/123 [==============================] - 85s 695ms/step - loss: 0.6705 - accuracy: 0.7456 - val_loss: 1.7103 - val_accuracy: 0.4644\n",
      "Epoch 18/40\n",
      "123/123 [==============================] - 103s 839ms/step - loss: 0.6541 - accuracy: 0.7556 - val_loss: 1.3978 - val_accuracy: 0.5356\n",
      "Epoch 19/40\n",
      "123/123 [==============================] - 106s 861ms/step - loss: 0.5479 - accuracy: 0.8020 - val_loss: 1.3200 - val_accuracy: 0.5678\n",
      "Epoch 20/40\n",
      "123/123 [==============================] - 106s 861ms/step - loss: 0.5188 - accuracy: 0.8095 - val_loss: 1.2565 - val_accuracy: 0.5540\n",
      "Epoch 21/40\n",
      "123/123 [==============================] - 103s 837ms/step - loss: 0.5046 - accuracy: 0.8176 - val_loss: 1.3677 - val_accuracy: 0.5563\n",
      "Epoch 22/40\n",
      "123/123 [==============================] - 100s 813ms/step - loss: 0.4635 - accuracy: 0.8251 - val_loss: 1.2540 - val_accuracy: 0.5701\n",
      "Epoch 23/40\n",
      "123/123 [==============================] - 88s 715ms/step - loss: 0.4541 - accuracy: 0.8169 - val_loss: 1.2980 - val_accuracy: 0.5954\n",
      "Epoch 24/40\n",
      "123/123 [==============================] - 87s 703ms/step - loss: 0.4310 - accuracy: 0.8427 - val_loss: 1.5851 - val_accuracy: 0.5609\n",
      "Epoch 25/40\n",
      "123/123 [==============================] - 85s 692ms/step - loss: 0.3471 - accuracy: 0.8709 - val_loss: 1.3128 - val_accuracy: 0.6092\n",
      "Epoch 26/40\n",
      "123/123 [==============================] - 85s 695ms/step - loss: 0.3179 - accuracy: 0.8874 - val_loss: 1.6079 - val_accuracy: 0.5586\n",
      "Epoch 27/40\n",
      "123/123 [==============================] - 105s 853ms/step - loss: 0.3023 - accuracy: 0.8960 - val_loss: 1.6427 - val_accuracy: 0.5770\n",
      "Epoch 28/40\n",
      "123/123 [==============================] - 100s 814ms/step - loss: 0.3174 - accuracy: 0.8860 - val_loss: 1.5130 - val_accuracy: 0.6322\n",
      "Epoch 29/40\n",
      "123/123 [==============================] - 112s 912ms/step - loss: 0.2696 - accuracy: 0.9081 - val_loss: 1.6016 - val_accuracy: 0.5793\n",
      "Epoch 30/40\n",
      "123/123 [==============================] - 116s 943ms/step - loss: 0.2802 - accuracy: 0.8995 - val_loss: 1.5120 - val_accuracy: 0.6184\n",
      "Epoch 31/40\n",
      "123/123 [==============================] - 110s 893ms/step - loss: 0.2556 - accuracy: 0.9084 - val_loss: 2.0620 - val_accuracy: 0.5356\n",
      "Epoch 32/40\n",
      "123/123 [==============================] - 113s 915ms/step - loss: 0.2295 - accuracy: 0.9195 - val_loss: 1.6061 - val_accuracy: 0.6023\n",
      "Epoch 33/40\n",
      "123/123 [==============================] - 104s 843ms/step - loss: 0.2306 - accuracy: 0.9181 - val_loss: 1.5763 - val_accuracy: 0.6138\n",
      "Epoch 34/40\n",
      "123/123 [==============================] - 113s 918ms/step - loss: 0.2511 - accuracy: 0.9095 - val_loss: 1.9008 - val_accuracy: 0.6092\n",
      "Epoch 35/40\n",
      "123/123 [==============================] - 118s 964ms/step - loss: 0.2148 - accuracy: 0.9181 - val_loss: 1.5532 - val_accuracy: 0.6207\n",
      "Epoch 36/40\n",
      "123/123 [==============================] - 111s 898ms/step - loss: 0.2495 - accuracy: 0.9164 - val_loss: 2.1659 - val_accuracy: 0.5356\n",
      "Epoch 37/40\n",
      "123/123 [==============================] - 115s 933ms/step - loss: 0.2083 - accuracy: 0.9209 - val_loss: 1.6465 - val_accuracy: 0.6069\n",
      "Epoch 38/40\n",
      "123/123 [==============================] - 130s 1s/step - loss: 0.2066 - accuracy: 0.9238 - val_loss: 2.1230 - val_accuracy: 0.6046\n",
      "Epoch 39/40\n",
      "123/123 [==============================] - 107s 870ms/step - loss: 0.2029 - accuracy: 0.9308 - val_loss: 1.6996 - val_accuracy: 0.6276\n",
      "Epoch 40/40\n",
      "123/123 [==============================] - 112s 908ms/step - loss: 0.1771 - accuracy: 0.9410 - val_loss: 1.7436 - val_accuracy: 0.6207\n"
     ]
    },
    {
     "data": {
      "text/plain": [
       "<tensorflow.python.keras.callbacks.History at 0x7f8cac07eaf0>"
      ]
     },
     "execution_count": 51,
     "metadata": {},
     "output_type": "execute_result"
    }
   ],
   "source": [
    "model.fit(traindata, trainy, epochs=40, validation_split=0.1, initial_epoch=3)"
   ]
  },
  {
   "cell_type": "code",
   "execution_count": 52,
   "metadata": {},
   "outputs": [],
   "source": [
    "model.save(\"final_model.h5\")"
   ]
  },
  {
   "cell_type": "markdown",
   "metadata": {},
   "source": [
    "# Testing the model"
   ]
  },
  {
   "cell_type": "code",
   "execution_count": 32,
   "metadata": {},
   "outputs": [],
   "source": [
    "from keras.models import load_model"
   ]
  },
  {
   "cell_type": "code",
   "execution_count": 33,
   "metadata": {},
   "outputs": [
    {
     "name": "stdout",
     "output_type": "stream",
     "text": [
      "WARNING:tensorflow:Error in loading the saved optimizer state. As a result, your model is starting with a freshly initialized optimizer.\n"
     ]
    }
   ],
   "source": [
    "model = load_model('final_model.h5')"
   ]
  },
  {
   "cell_type": "code",
   "execution_count": 34,
   "metadata": {},
   "outputs": [
    {
     "name": "stdout",
     "output_type": "stream",
     "text": [
      "Model: \"sequential\"\n",
      "_________________________________________________________________\n",
      "Layer (type)                 Output Shape              Param #   \n",
      "=================================================================\n",
      "conv2d (Conv2D)              (None, 62, 62, 64)        640       \n",
      "_________________________________________________________________\n",
      "conv2d_1 (Conv2D)            (None, 58, 58, 48)        76848     \n",
      "_________________________________________________________________\n",
      "batch_normalization (BatchNo (None, 58, 58, 48)        192       \n",
      "_________________________________________________________________\n",
      "activation (Activation)      (None, 58, 58, 48)        0         \n",
      "_________________________________________________________________\n",
      "max_pooling2d (MaxPooling2D) (None, 29, 29, 48)        0         \n",
      "_________________________________________________________________\n",
      "dropout (Dropout)            (None, 29, 29, 48)        0         \n",
      "_________________________________________________________________\n",
      "conv2d_2 (Conv2D)            (None, 27, 27, 144)       62352     \n",
      "_________________________________________________________________\n",
      "conv2d_3 (Conv2D)            (None, 25, 25, 48)        62256     \n",
      "_________________________________________________________________\n",
      "batch_normalization_1 (Batch (None, 25, 25, 48)        192       \n",
      "_________________________________________________________________\n",
      "activation_1 (Activation)    (None, 25, 25, 48)        0         \n",
      "_________________________________________________________________\n",
      "max_pooling2d_1 (MaxPooling2 (None, 12, 12, 48)        0         \n",
      "_________________________________________________________________\n",
      "dropout_1 (Dropout)          (None, 12, 12, 48)        0         \n",
      "_________________________________________________________________\n",
      "conv2d_4 (Conv2D)            (None, 8, 8, 80)          96080     \n",
      "_________________________________________________________________\n",
      "conv2d_5 (Conv2D)            (None, 4, 4, 48)          96048     \n",
      "_________________________________________________________________\n",
      "batch_normalization_2 (Batch (None, 4, 4, 48)          192       \n",
      "_________________________________________________________________\n",
      "activation_2 (Activation)    (None, 4, 4, 48)          0         \n",
      "_________________________________________________________________\n",
      "max_pooling2d_2 (MaxPooling2 (None, 2, 2, 48)          0         \n",
      "_________________________________________________________________\n",
      "dropout_2 (Dropout)          (None, 2, 2, 48)          0         \n",
      "_________________________________________________________________\n",
      "flatten (Flatten)            (None, 192)               0         \n",
      "_________________________________________________________________\n",
      "dense (Dense)                (None, 96)                18528     \n",
      "_________________________________________________________________\n",
      "dense_1 (Dense)              (None, 6)                 582       \n",
      "=================================================================\n",
      "Total params: 413,910\n",
      "Trainable params: 413,622\n",
      "Non-trainable params: 288\n",
      "_________________________________________________________________\n"
     ]
    }
   ],
   "source": [
    "model.summary()"
   ]
  },
  {
   "cell_type": "code",
   "execution_count": 35,
   "metadata": {},
   "outputs": [
    {
     "data": {
      "text/plain": [
       "numpy.ndarray"
      ]
     },
     "execution_count": 35,
     "metadata": {},
     "output_type": "execute_result"
    }
   ],
   "source": [
    "type(traindata)"
   ]
  },
  {
   "cell_type": "code",
   "execution_count": 36,
   "metadata": {},
   "outputs": [
    {
     "data": {
      "text/plain": [
       "numpy.ndarray"
      ]
     },
     "execution_count": 36,
     "metadata": {},
     "output_type": "execute_result"
    }
   ],
   "source": [
    "type(trainy)"
   ]
  },
  {
   "cell_type": "code",
   "execution_count": 37,
   "metadata": {},
   "outputs": [
    {
     "data": {
      "text/plain": [
       "pandas.core.series.Series"
      ]
     },
     "execution_count": 37,
     "metadata": {},
     "output_type": "execute_result"
    }
   ],
   "source": [
    "type(testx)"
   ]
  },
  {
   "cell_type": "code",
   "execution_count": 38,
   "metadata": {},
   "outputs": [
    {
     "data": {
      "text/plain": [
       "pandas.core.series.Series"
      ]
     },
     "execution_count": 38,
     "metadata": {},
     "output_type": "execute_result"
    }
   ],
   "source": [
    "type(testy)"
   ]
  },
  {
   "cell_type": "code",
   "execution_count": 39,
   "metadata": {},
   "outputs": [],
   "source": [
    "testx=np.asarray(testx)"
   ]
  },
  {
   "cell_type": "code",
   "execution_count": 40,
   "metadata": {},
   "outputs": [],
   "source": [
    "testdata=[]\n",
    "for i in range(len(testx)):\n",
    "    ttx=testx[i].reshape((64,64))\n",
    "    testdata.append(ttx)"
   ]
  },
  {
   "cell_type": "code",
   "execution_count": 41,
   "metadata": {},
   "outputs": [],
   "source": [
    "testdata=np.asarray(testdata)"
   ]
  },
  {
   "cell_type": "code",
   "execution_count": 42,
   "metadata": {},
   "outputs": [],
   "source": [
    "testdata=testdata.reshape(len(testdata),64,64,1)"
   ]
  },
  {
   "cell_type": "code",
   "execution_count": 43,
   "metadata": {},
   "outputs": [],
   "source": [
    "testy=testy.astype(\"uint8\")"
   ]
  },
  {
   "cell_type": "code",
   "execution_count": 44,
   "metadata": {},
   "outputs": [],
   "source": [
    "testy=np.asarray(testy)"
   ]
  },
  {
   "cell_type": "code",
   "execution_count": 45,
   "metadata": {},
   "outputs": [
    {
     "data": {
      "text/plain": [
       "numpy.ndarray"
      ]
     },
     "execution_count": 45,
     "metadata": {},
     "output_type": "execute_result"
    }
   ],
   "source": [
    "type(testy)"
   ]
  },
  {
   "cell_type": "code",
   "execution_count": 46,
   "metadata": {},
   "outputs": [
    {
     "data": {
      "text/plain": [
       "array([2, 2, 2, ..., 3, 2, 4], dtype=uint8)"
      ]
     },
     "execution_count": 46,
     "metadata": {},
     "output_type": "execute_result"
    }
   ],
   "source": [
    "testy"
   ]
  },
  {
   "cell_type": "code",
   "execution_count": 47,
   "metadata": {},
   "outputs": [
    {
     "data": {
      "text/plain": [
       "(1087, 64, 64, 1)"
      ]
     },
     "execution_count": 47,
     "metadata": {},
     "output_type": "execute_result"
    }
   ],
   "source": [
    "testdata.shape"
   ]
  },
  {
   "cell_type": "code",
   "execution_count": 48,
   "metadata": {},
   "outputs": [
    {
     "name": "stdout",
     "output_type": "stream",
     "text": [
      "Test loss: 0.5035753846168518\n",
      "Test accuracy: 0.8767249584197998\n"
     ]
    }
   ],
   "source": [
    "score = model.evaluate(testdata, testy, verbose = 0) \n",
    "\n",
    "print('Test loss:', score[0]) \n",
    "print('Test accuracy:', score[1])\n"
   ]
  },
  {
   "cell_type": "code",
   "execution_count": 57,
   "metadata": {},
   "outputs": [],
   "source": [
    "p=model.predict(testdata)"
   ]
  },
  {
   "cell_type": "code",
   "execution_count": 59,
   "metadata": {},
   "outputs": [
    {
     "data": {
      "text/plain": [
       "array([4.415418e-17, 4.269471e-08, 9.539825e-07, 9.999808e-01,\n",
       "       1.753474e-05, 7.051959e-07], dtype=float32)"
      ]
     },
     "execution_count": 59,
     "metadata": {},
     "output_type": "execute_result"
    }
   ],
   "source": [
    "p[0]"
   ]
  },
  {
   "cell_type": "code",
   "execution_count": 62,
   "metadata": {},
   "outputs": [],
   "source": [
    "pred = np.argmax(p[0])"
   ]
  },
  {
   "cell_type": "code",
   "execution_count": 63,
   "metadata": {},
   "outputs": [
    {
     "data": {
      "text/plain": [
       "3"
      ]
     },
     "execution_count": 63,
     "metadata": {},
     "output_type": "execute_result"
    }
   ],
   "source": [
    "pred"
   ]
  },
  {
   "cell_type": "code",
   "execution_count": 65,
   "metadata": {},
   "outputs": [
    {
     "data": {
      "text/plain": [
       "3"
      ]
     },
     "execution_count": 65,
     "metadata": {},
     "output_type": "execute_result"
    }
   ],
   "source": [
    "testy[0]"
   ]
  },
  {
   "cell_type": "code",
   "execution_count": 67,
   "metadata": {},
   "outputs": [
    {
     "data": {
      "text/plain": [
       "<matplotlib.image.AxesImage at 0x7f9e78eef580>"
      ]
     },
     "execution_count": 67,
     "metadata": {},
     "output_type": "execute_result"
    },
    {
     "data": {
      "image/png": "[encoded data removed]",
      "text/plain": [
       "<Figure size 432x288 with 1 Axes>"
      ]
     },
     "metadata": {
      "needs_background": "light"
     },
     "output_type": "display_data"
    }
   ],
   "source": [
    "plt.imshow(testdata[0].reshape(64,64))"
   ]
  },
  {
   "cell_type": "markdown",
   "metadata": {},
   "source": [
    "# Menu driven "
   ]
  },
  {
   "cell_type": "code",
   "execution_count": 49,
   "metadata": {},
   "outputs": [],
   "source": [
    "from PIL import ImageOps\n",
    "face_cascade = cv2.CascadeClassifier(cv2.data.haarcascades + 'haarcascade_frontalface_default.xml')"
   ]
  },
  {
   "cell_type": "code",
   "execution_count": 70,
   "metadata": {},
   "outputs": [
    {
     "name": "stdout",
     "output_type": "stream",
     "text": [
      "Choose 1 for webcam and 2 for image import2\n"
     ]
    }
   ],
   "source": [
    "\n",
    "inp=input(\"Choose 1 for webcam and 2 for image import\")\n",
    "\n",
    "if inp==2:\n",
    "        frame=input(\"Enter image path: \")\n",
    "        i=Image.open(frame)\n",
    "        im2 = ImageOps.grayscale(i) \n",
    "        faces=face_cascade.detectMultiScale(np.array(im2),1.3,5)\n",
    "        if len(faces)!=0:\n",
    "            \n",
    "            (x,y,w,h)=faces[0]\n",
    "            crop=np.array(im2)[y:y+h, x:x+w]\n",
    "            s=cv2.resize(crop, (64, 64), interpolation=cv2.INTER_LINEAR)\n",
    "            norm_img = np.zeros((300, 300))\n",
    "            norm_img = cv2.normalize(s, norm_img, 0, 255, cv2.NORM_MINMAX)\n",
    "            #PIL_image = Image.fromarray(np.uint8(norm_img)).convert('RGB')\n",
    "            PIL_image=np.asarray(norm_img)\n",
    "            #PIL_image=PIL_image[:,:,1]\n",
    "            #PIL_image.save(\"out.jpg\")\n",
    "            #plt.imshow(PIL_image)\n",
    "            #print(PIL_image.shape)\n",
    "            #model.predict(PIL_image)\n",
    "            PIL_image=PIL_image.reshape(1,64,64,1)\n",
    "            pre=model.predict(PIL_image)\n",
    "            o=np.argmax(pre)\n",
    "            print(o)\n",
    "        else:\n",
    "            print(\"Face not detected. Try again with another image (clearly visible at appropriate distance)\")\n",
    "else:\n",
    "    key = cv2. waitKey(1)\n",
    "    webcam = cv2.VideoCapture(0)\n",
    "    while True:\n",
    "        try:\n",
    "            check, frame = webcam.read()\n",
    "            print(check) #prints true as long as the webcam is running\n",
    "            print(frame) #prints matrix values of each framecd \n",
    "            cv2.imshow(\"Capturing\", frame)\n",
    "            key = cv2.waitKey(1)\n",
    "            if key == ord('s'): \n",
    "                cv2.imwrite(filename='saved_img.jpg', img=frame)\n",
    "                webcam.release()\n",
    "                img_new = cv2.imread('saved_img.jpg', cv2.IMREAD_GRAYSCALE)\n",
    "                img_new = cv2.imshow(\"Captured Image\", img_new)\n",
    "                cv2.waitKey(1650)\n",
    "                cv2.destroyAllWindows()\n",
    "                print(\"Processing image...\")\n",
    "                img_ = cv2.imread('saved_img.jpg', cv2.IMREAD_ANYCOLOR)\n",
    "                print(\"Converting RGB image to grayscale...\")\n",
    "                gray = cv2.cvtColor(img_, cv2.COLOR_BGR2GRAY)\n",
    "                print(\"Converted RGB image to grayscale...\")\n",
    "                print(\"Resizing image to 64x64 scale...\")\n",
    "                img_ = cv2.resize(gray,(64,64))\n",
    "                print(\"Resized...\")\n",
    "                img_resized = cv2.imwrite(filename='saved_img.jpg', img=img_)\n",
    "                print(\"Image saved!\")\n",
    "\n",
    "                break\n",
    "            elif key == ord('q'):\n",
    "                print(\"Turning off camera.\")\n",
    "                webcam.release()\n",
    "                print(\"Camera off.\")\n",
    "                print(\"Program ended.\")\n",
    "                cv2.destroyAllWindows()\n",
    "                break\n",
    "\n",
    "        except(KeyboardInterrupt):\n",
    "            print(\"Turning off camera.\")\n",
    "            webcam.release()\n",
    "            print(\"Camera off.\")\n",
    "            print(\"Program ended.\")\n",
    "            cv2.destroyAllWindows()\n",
    "            break\n",
    "\n",
    "            frame= \"saved_img.jpg\"\n",
    "            i=Image.open(frame)\n",
    "            im2 = ImageOps.grayscale(i) \n",
    "            faces=face_cascade.detectMultiScale(np.array(im2),1.3,5)\n",
    "            if len(faces)!=0:\n",
    "\n",
    "                (x,y,w,h)=faces[0]\n",
    "                crop=np.array(im2)[y:y+h, x:x+w]\n",
    "                s=cv2.resize(crop, (64, 64), interpolation=cv2.INTER_LINEAR)\n",
    "                norm_img = np.zeros((300, 300))\n",
    "                norm_img = cv2.normalize(s, norm_img, 0, 255, cv2.NORM_MINMAX)\n",
    "                #PIL_image = Image.fromarray(np.uint8(norm_img)).convert('RGB')\n",
    "                PIL_image=np.asarray(norm_img)\n",
    "                #PIL_image=PIL_image[:,:,1]\n",
    "                #PIL_image.save(\"out.jpg\")\n",
    "                #plt.imshow(PIL_image)\n",
    "                #print(PIL_image.shape)\n",
    "                #model.predict(PIL_image)\n",
    "                PIL_image=PIL_image.reshape(1,64,64,1)\n",
    "                pre=model.predict(PIL_image)\n",
    "                o=np.argmax(pre)\n",
    "                print(o)\n",
    "\n",
    "\n"
   ]
  },
  {
   "cell_type": "code",
   "execution_count": 88,
   "metadata": {},
   "outputs": [
    {
     "name": "stdout",
     "output_type": "stream",
     "text": [
      "Enter image pathdemo.jpg\n"
     ]
    },
    {
     "ename": "ValueError",
     "evalue": "cannot reshape array of size 12288 into shape (64,64,1)",
     "output_type": "error",
     "traceback": [
      "\u001b[0;31m---------------------------------------------------------------------------\u001b[0m",
      "\u001b[0;31mValueError\u001b[0m                                Traceback (most recent call last)",
      "\u001b[0;32m<ipython-input-88-63e41091bc9f>\u001b[0m in \u001b[0;36m<module>\u001b[0;34m\u001b[0m\n\u001b[1;32m     11\u001b[0m \u001b[0;31m#PIL_image = Image.fromarray(np.uint8(norm_img)).convert('RGB')\u001b[0m\u001b[0;34m\u001b[0m\u001b[0;34m\u001b[0m\u001b[0;34m\u001b[0m\u001b[0m\n\u001b[1;32m     12\u001b[0m \u001b[0mPIL_image\u001b[0m\u001b[0;34m=\u001b[0m\u001b[0mnp\u001b[0m\u001b[0;34m.\u001b[0m\u001b[0masarray\u001b[0m\u001b[0;34m(\u001b[0m\u001b[0mPIL_image\u001b[0m\u001b[0;34m)\u001b[0m\u001b[0;34m\u001b[0m\u001b[0;34m\u001b[0m\u001b[0m\n\u001b[0;32m---> 13\u001b[0;31m \u001b[0mPIL_image\u001b[0m\u001b[0;34m=\u001b[0m\u001b[0mPIL_image\u001b[0m\u001b[0;34m.\u001b[0m\u001b[0mreshape\u001b[0m\u001b[0;34m(\u001b[0m\u001b[0;36m64\u001b[0m\u001b[0;34m,\u001b[0m\u001b[0;36m64\u001b[0m\u001b[0;34m,\u001b[0m\u001b[0;36m1\u001b[0m\u001b[0;34m)\u001b[0m\u001b[0;34m\u001b[0m\u001b[0;34m\u001b[0m\u001b[0m\n\u001b[0m\u001b[1;32m     14\u001b[0m \u001b[0mprint\u001b[0m\u001b[0;34m(\u001b[0m\u001b[0mPIL_image\u001b[0m\u001b[0;34m.\u001b[0m\u001b[0mshape\u001b[0m\u001b[0;34m)\u001b[0m\u001b[0;34m\u001b[0m\u001b[0;34m\u001b[0m\u001b[0m\n\u001b[1;32m     15\u001b[0m \u001b[0mplt\u001b[0m\u001b[0;34m.\u001b[0m\u001b[0mimshow\u001b[0m\u001b[0;34m(\u001b[0m\u001b[0mPIL_image\u001b[0m\u001b[0;34m)\u001b[0m\u001b[0;34m\u001b[0m\u001b[0;34m\u001b[0m\u001b[0m\n",
      "\u001b[0;31mValueError\u001b[0m: cannot reshape array of size 12288 into shape (64,64,1)"
     ]
    }
   ],
   "source": [
    "frame=input(\"Enter image path\")\n",
    "i=Image.open(frame)\n",
    "#grayscale\n",
    "im2 = ImageOps.grayscale(i) \n",
    "faces=face_cascade.detectMultiScale(np.array(im2),1.3,5)\n",
    "(x,y,w,h)=faces[0]\n",
    "crop=np.array(im2)[y:y+h, x:x+w]\n",
    "s=cv2.resize(crop, (64, 64), interpolation=cv2.INTER_LINEAR)\n",
    "norm_img = np.zeros((300, 300))\n",
    "norm_img = cv2.normalize(s, norm_img, 0, 255, cv2.NORM_MINMAX)\n",
    "#PIL_image = Image.fromarray(np.uint8(norm_img)).convert('RGB')\n",
    "PIL_image=np.asarray(PIL_image)\n",
    "PIL_image=PIL_image.reshape(64,64,1)\n",
    "print(PIL_image.shape)\n",
    "plt.imshow(PIL_image)\n",
    "print(type(PIL_image))\n",
    "#model.predict(PIL_image)"
   ]
  },
  {
   "cell_type": "code",
   "execution_count": 77,
   "metadata": {},
   "outputs": [
    {
     "data": {
      "text/plain": [
       "PIL.Image.Image"
      ]
     },
     "execution_count": 77,
     "metadata": {},
     "output_type": "execute_result"
    }
   ],
   "source": [
    "type(PIL_image)"
   ]
  },
  {
   "cell_type": "code",
   "execution_count": 57,
   "metadata": {},
   "outputs": [
    {
     "name": "stdout",
     "output_type": "stream",
     "text": [
      "Enter image path: xyz.jpg\n",
      "1\n"
     ]
    }
   ],
   "source": [
    "        frame=input(\"Enter image path: \")\n",
    "        i=Image.open(frame)\n",
    "        im2 = ImageOps.grayscale(i) \n",
    "        faces=face_cascade.detectMultiScale(np.array(im2),1.3,5)\n",
    "        if len(faces)!=0:\n",
    "            \n",
    "            (x,y,w,h)=faces[0]\n",
    "            crop=np.array(im2)[y:y+h, x:x+w]\n",
    "            s=cv2.resize(crop, (64, 64), interpolation=cv2.INTER_LINEAR)\n",
    "            norm_img = np.zeros((300, 300))\n",
    "            norm_img = cv2.normalize(s, norm_img, 0, 255, cv2.NORM_MINMAX)\n",
    "            #PIL_image = Image.fromarray(np.uint8(norm_img)).convert('RGB')\n",
    "            PIL_image=np.asarray(norm_img)\n",
    "            #PIL_image=PIL_image[:,:,1]\n",
    "            #PIL_image.save(\"out.jpg\")\n",
    "            #plt.imshow(PIL_image)\n",
    "            #print(PIL_image.shape)\n",
    "            #model.predict(PIL_image)\n",
    "            PIL_image=PIL_image.reshape(1,64,64,1)\n",
    "            pre=model.predict(PIL_image)\n",
    "            o=np.argmax(pre)\n",
    "            print(o)\n",
    "        else:\n",
    "            print(\"Face not detected. Try again with anotheer image (clearly visible at appropriate distance)\")"
   ]
  },
  {
   "cell_type": "code",
   "execution_count": null,
   "metadata": {},
   "outputs": [
    {
     "name": "stdout",
     "output_type": "stream",
     "text": [
      "True\n",
      "[[[0 0 0]\n",
      "  [0 0 0]\n",
      "  [0 0 0]\n",
      "  ...\n",
      "  [0 0 0]\n",
      "  [0 0 0]\n",
      "  [0 0 0]]\n",
      "\n",
      " [[0 0 0]\n",
      "  [0 0 0]\n",
      "  [0 0 0]\n",
      "  ...\n",
      "  [0 0 0]\n",
      "  [0 0 0]\n",
      "  [0 0 0]]\n",
      "\n",
      " [[0 0 0]\n",
      "  [0 0 0]\n",
      "  [0 0 0]\n",
      "  ...\n",
      "  [0 0 0]\n",
      "  [0 0 0]\n",
      "  [0 0 0]]\n",
      "\n",
      " ...\n",
      "\n",
      " [[0 0 0]\n",
      "  [0 0 0]\n",
      "  [0 0 0]\n",
      "  ...\n",
      "  [7 0 0]\n",
      "  [9 0 0]\n",
      "  [8 0 0]]\n",
      "\n",
      " [[0 0 0]\n",
      "  [0 0 0]\n",
      "  [0 0 0]\n",
      "  ...\n",
      "  [3 0 0]\n",
      "  [7 0 0]\n",
      "  [5 0 0]]\n",
      "\n",
      " [[0 0 0]\n",
      "  [0 0 0]\n",
      "  [0 0 0]\n",
      "  ...\n",
      "  [6 0 0]\n",
      "  [6 0 0]\n",
      "  [4 0 0]]]\n"
     ]
    }
   ],
   "source": [
    "import cv2 \n",
    "\n",
    "key = cv2. waitKey(1)\n",
    "webcam = cv2.VideoCapture(0)\n",
    "while True:\n",
    "    try:\n",
    "        check, frame = webcam.read()\n",
    "        print(check) #prints true as long as the webcam is running\n",
    "        print(frame) #prints matrix values of each framecd \n",
    "        cv2.imshow(\"Capturing\", frame)\n",
    "        key = cv2.waitKey(1)\n",
    "        if key == ord('s'): \n",
    "            cv2.imwrite(filename='saved_img.jpg', img=frame)\n",
    "            webcam.release()\n",
    "            img_new = cv2.imread('saved_img.jpg', cv2.IMREAD_GRAYSCALE)\n",
    "            img_new = cv2.imshow(\"Captured Image\", img_new)\n",
    "            cv2.waitKey(1650)\n",
    "            cv2.destroyAllWindows()\n",
    "            print(\"Processing image...\")\n",
    "            img_ = cv2.imread('saved_img.jpg', cv2.IMREAD_ANYCOLOR)\n",
    "            print(\"Converting RGB image to grayscale...\")\n",
    "            gray = cv2.cvtColor(img_, cv2.COLOR_BGR2GRAY)\n",
    "            print(\"Converted RGB image to grayscale...\")\n",
    "            print(\"Resizing image to 64x64 scale...\")\n",
    "            img_ = cv2.resize(gray,(64,64))\n",
    "            print(\"Resized...\")\n",
    "            img_resized = cv2.imwrite(filename='saved_img.jpg', img=img_)\n",
    "            print(\"Image saved!\")\n",
    "        \n",
    "            break\n",
    "        elif key == ord('q'):\n",
    "            print(\"Turning off camera.\")\n",
    "            webcam.release()\n",
    "            print(\"Camera off.\")\n",
    "            print(\"Program ended.\")\n",
    "            cv2.destroyAllWindows()\n",
    "            break\n",
    "        \n",
    "    except(KeyboardInterrupt):\n",
    "        print(\"Turning off camera.\")\n",
    "        webcam.release()\n",
    "        print(\"Camera off.\")\n",
    "        print(\"Program ended.\")\n",
    "        cv2.destroyAllWindows()\n",
    "        break\n",
    "        \n",
    "        frame= \"saved_img.jpg\"\n",
    "        i=Image.open(frame)\n",
    "        im2 = ImageOps.grayscale(i) \n",
    "        faces=face_cascade.detectMultiScale(np.array(im2),1.3,5)\n",
    "        if len(faces)!=0:\n",
    "            \n",
    "            (x,y,w,h)=faces[0]\n",
    "            crop=np.array(im2)[y:y+h, x:x+w]\n",
    "            s=cv2.resize(crop, (64, 64), interpolation=cv2.INTER_LINEAR)\n",
    "            norm_img = np.zeros((300, 300))\n",
    "            norm_img = cv2.normalize(s, norm_img, 0, 255, cv2.NORM_MINMAX)\n",
    "            #PIL_image = Image.fromarray(np.uint8(norm_img)).convert('RGB')\n",
    "            PIL_image=np.asarray(norm_img)\n",
    "            #PIL_image=PIL_image[:,:,1]\n",
    "            #PIL_image.save(\"out.jpg\")\n",
    "            #plt.imshow(PIL_image)\n",
    "            #print(PIL_image.shape)\n",
    "            #model.predict(PIL_image)\n",
    "            PIL_image=PIL_image.reshape(1,64,64,1)\n",
    "            pre=model.predict(PIL_image)\n",
    "            o=np.argmax(pre)\n",
    "            print(o)\n",
    "        \n",
    "\n",
    "    \n"
   ]
  },
  {
   "cell_type": "code",
   "execution_count": null,
   "metadata": {},
   "outputs": [],
   "source": [
    "import cv2\n",
    "video_capture = cv2.VideoCapture(0)\n",
    "\n",
    "cv2.namedWindow(\"Window\")\n",
    "\n",
    "while True:\n",
    "    ret, frame = video_capture.read()\n",
    "    cv2.imshow(\"Window\", frame)\n",
    "\n",
    "    #This breaks on 'q' key\n",
    "    if cv2.waitKey(1) & 0xFF == ord('q'):\n",
    "        break\n",
    "\n",
    "video_capture.release()\n",
    "cv2.destroyAllWindows()"
   ]
  },
  {
   "cell_type": "code",
   "execution_count": null,
   "metadata": {},
   "outputs": [],
   "source": []
  }
 ],
 "metadata": {
  "kernelspec": {
   "display_name": "Python 3",
   "language": "python",
   "name": "python3"
  },
  "language_info": {
   "codemirror_mode": {
    "name": "ipython",
    "version": 3
   },
   "file_extension": ".py",
   "mimetype": "text/x-python",
   "name": "python",
   "nbconvert_exporter": "python",
   "pygments_lexer": "ipython3",
   "version": "3.8.2"
  }
 },
 "nbformat": 4,
 "nbformat_minor": 4
}
