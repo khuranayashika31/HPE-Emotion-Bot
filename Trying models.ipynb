{
 "cells": [
  {
   "cell_type": "code",
   "execution_count": 1,
   "metadata": {},
   "outputs": [],
   "source": [
    "import tensorflow as tf"
   ]
  },
  {
   "cell_type": "code",
   "execution_count": 3,
   "metadata": {},
   "outputs": [
    {
     "data": {
      "text/plain": [
       "'2.4.1'"
      ]
     },
     "execution_count": 3,
     "metadata": {},
     "output_type": "execute_result"
    }
   ],
   "source": [
    "tf.__version__"
   ]
  },
  {
   "cell_type": "code",
   "execution_count": 2,
   "metadata": {},
   "outputs": [],
   "source": [
    "import pandas as pd\n",
    "import os\n",
    "import numpy as np\n",
    "import cv2\n",
    "import PIL\n",
    "from PIL import Image\n",
    "import matplotlib.pyplot as plt"
   ]
  },
  {
   "cell_type": "code",
   "execution_count": 4,
   "metadata": {},
   "outputs": [],
   "source": [
    "data=[]\n",
    "labels=[]\n"
   ]
  },
  {
   "cell_type": "markdown",
   "metadata": {},
   "source": [
    "happy-1\n",
    "scare-2\n",
    "sad-3\n",
    "angry-4\n",
    "neutral-5"
   ]
  },
  {
   "cell_type": "code",
   "execution_count": 9,
   "metadata": {},
   "outputs": [],
   "source": [
    "\n",
    "for filename in os.listdir(\"happy pp\"):\n",
    "    frame=\"happy pp/\"+filename\n",
    "    \n",
    "    if frame=='happy pp/.DS_Store':\n",
    "        pass\n",
    "    else:\n",
    "    #print(filename)\n",
    "        i=Image.open(\"happy pp/\"+filename)\n",
    "        im=np.asarray(i)\n",
    "        data.append(im)\n",
    "        labels.append(filename+\"_1\")\n",
    "        "
   ]
  },
  {
   "cell_type": "code",
   "execution_count": 10,
   "metadata": {},
   "outputs": [
    {
     "data": {
      "text/plain": [
       "5433"
      ]
     },
     "execution_count": 10,
     "metadata": {},
     "output_type": "execute_result"
    }
   ],
   "source": [
    "len(data)"
   ]
  },
  {
   "cell_type": "code",
   "execution_count": 11,
   "metadata": {},
   "outputs": [
    {
     "data": {
      "text/plain": [
       "5433"
      ]
     },
     "execution_count": 11,
     "metadata": {},
     "output_type": "execute_result"
    }
   ],
   "source": [
    "len(labels)"
   ]
  },
  {
   "cell_type": "code",
   "execution_count": 12,
   "metadata": {},
   "outputs": [],
   "source": [
    "data=np.asarray(data)"
   ]
  },
  {
   "cell_type": "code",
   "execution_count": 13,
   "metadata": {},
   "outputs": [],
   "source": [
    "data=data[:,:,:,-1]"
   ]
  },
  {
   "cell_type": "code",
   "execution_count": 14,
   "metadata": {},
   "outputs": [
    {
     "data": {
      "text/plain": [
       "(5433, 64, 64)"
      ]
     },
     "execution_count": 14,
     "metadata": {},
     "output_type": "execute_result"
    }
   ],
   "source": [
    "data.shape"
   ]
  },
  {
   "cell_type": "code",
   "execution_count": 15,
   "metadata": {},
   "outputs": [],
   "source": [
    "emotion=[]\n",
    "for i in range(len(labels)):\n",
    "    emotion.append(labels[i][-1])"
   ]
  },
  {
   "cell_type": "code",
   "execution_count": 16,
   "metadata": {},
   "outputs": [],
   "source": [
    "lis=[]\n",
    "for i in range(len(data)):\n",
    "    d=data[i].flatten()\n",
    "    lis.append(d)\n",
    "    "
   ]
  },
  {
   "cell_type": "code",
   "execution_count": 17,
   "metadata": {},
   "outputs": [
    {
     "data": {
      "text/plain": [
       "array([[[ 30,  30,  30, ...,  27,  28,  31],\n",
       "        [ 30,  30,  30, ...,  27,  27,  28],\n",
       "        [ 30,  30,  30, ...,  28,  27,  26],\n",
       "        ...,\n",
       "        [ 31,  31,  31, ...,  32,  32,  32],\n",
       "        [ 31,  31,  31, ...,  32,  32,  32],\n",
       "        [ 31,  31,  31, ...,  32,  32,  32]],\n",
       "\n",
       "       [[176, 154, 142, ...,  99,  97,  87],\n",
       "        [179, 156, 135, ...,  92,  90,  74],\n",
       "        [182, 160, 128, ...,  88,  86,  84],\n",
       "        ...,\n",
       "        [158, 141, 125, ..., 102,  36, 122],\n",
       "        [137, 136, 135, ..., 115,  70, 140],\n",
       "        [120, 152, 165, ..., 111,  96, 153]],\n",
       "\n",
       "       [[113,  93,  69, ...,  19,   0,   5],\n",
       "        [ 96, 105,  61, ...,  58,  43,   2],\n",
       "        [100,  93,  79, ...,  48,  38,  52],\n",
       "        ...,\n",
       "        [  0,   3,   0, ...,   0,  13,   0],\n",
       "        [  0,   2,   0, ...,   0,   8,   0],\n",
       "        [  4,   2,   0, ...,   7,   0,   2]],\n",
       "\n",
       "       ...,\n",
       "\n",
       "       [[169, 164, 156, ..., 175, 175, 174],\n",
       "        [172, 169, 165, ..., 181, 184, 185],\n",
       "        [173, 173, 172, ..., 182, 188, 188],\n",
       "        ...,\n",
       "        [107, 107,  98, ...,  33,  38,  43],\n",
       "        [115, 115, 104, ...,  32,  38,  42],\n",
       "        [124, 123, 107, ...,  32,  38,  41]],\n",
       "\n",
       "       [[255, 248, 255, ...,  47,  37,  27],\n",
       "        [251, 250, 250, ...,  58,  46,  35],\n",
       "        [252, 255, 244, ...,  72,  57,  44],\n",
       "        ...,\n",
       "        [ 73,  57,  42, ...,  25,  19,  22],\n",
       "        [ 82,  53,  51, ...,  24,  19,  23],\n",
       "        [ 80,  51,  66, ...,  23,  19,  24]],\n",
       "\n",
       "       [[  9,  10,   5, ..., 119, 118, 116],\n",
       "        [ 15,  14,   9, ..., 117, 116, 115],\n",
       "        [ 20,  13,   9, ..., 114, 114, 113],\n",
       "        ...,\n",
       "        [ 97,  98,  99, ..., 113, 110, 110],\n",
       "        [ 95,  93,  92, ..., 110, 111, 110],\n",
       "        [ 95,  90,  86, ..., 107, 111, 111]]], dtype=uint8)"
      ]
     },
     "execution_count": 17,
     "metadata": {},
     "output_type": "execute_result"
    }
   ],
   "source": [
    "data"
   ]
  },
  {
   "cell_type": "code",
   "execution_count": 18,
   "metadata": {},
   "outputs": [],
   "source": [
    "df = pd.DataFrame(list(zip(lis, emotion)), \n",
    "               columns =['Image', 'Label'])"
   ]
  },
  {
   "cell_type": "code",
   "execution_count": 19,
   "metadata": {},
   "outputs": [
    {
     "data": {
      "text/html": [
       "<div>\n",
       "<style scoped>\n",
       "    .dataframe tbody tr th:only-of-type {\n",
       "        vertical-align: middle;\n",
       "    }\n",
       "\n",
       "    .dataframe tbody tr th {\n",
       "        vertical-align: top;\n",
       "    }\n",
       "\n",
       "    .dataframe thead th {\n",
       "        text-align: right;\n",
       "    }\n",
       "</style>\n",
       "<table border=\"1\" class=\"dataframe\">\n",
       "  <thead>\n",
       "    <tr style=\"text-align: right;\">\n",
       "      <th></th>\n",
       "      <th>Image</th>\n",
       "      <th>Label</th>\n",
       "    </tr>\n",
       "  </thead>\n",
       "  <tbody>\n",
       "    <tr>\n",
       "      <th>0</th>\n",
       "      <td>[30, 30, 30, 30, 30, 30, 30, 30, 33, 33, 33, 3...</td>\n",
       "      <td>5</td>\n",
       "    </tr>\n",
       "    <tr>\n",
       "      <th>1</th>\n",
       "      <td>[176, 154, 142, 151, 107, 93, 117, 169, 153, 1...</td>\n",
       "      <td>5</td>\n",
       "    </tr>\n",
       "    <tr>\n",
       "      <th>2</th>\n",
       "      <td>[113, 93, 69, 90, 39, 118, 172, 117, 68, 0, 46...</td>\n",
       "      <td>5</td>\n",
       "    </tr>\n",
       "    <tr>\n",
       "      <th>3</th>\n",
       "      <td>[226, 231, 222, 233, 216, 143, 69, 18, 13, 23,...</td>\n",
       "      <td>5</td>\n",
       "    </tr>\n",
       "    <tr>\n",
       "      <th>4</th>\n",
       "      <td>[38, 35, 19, 33, 21, 63, 44, 56, 68, 80, 83, 9...</td>\n",
       "      <td>5</td>\n",
       "    </tr>\n",
       "  </tbody>\n",
       "</table>\n",
       "</div>"
      ],
      "text/plain": [
       "                                               Image Label\n",
       "0  [30, 30, 30, 30, 30, 30, 30, 30, 33, 33, 33, 3...     5\n",
       "1  [176, 154, 142, 151, 107, 93, 117, 169, 153, 1...     5\n",
       "2  [113, 93, 69, 90, 39, 118, 172, 117, 68, 0, 46...     5\n",
       "3  [226, 231, 222, 233, 216, 143, 69, 18, 13, 23,...     5\n",
       "4  [38, 35, 19, 33, 21, 63, 44, 56, 68, 80, 83, 9...     5"
      ]
     },
     "execution_count": 19,
     "metadata": {},
     "output_type": "execute_result"
    }
   ],
   "source": [
    "df.head()"
   ]
  },
  {
   "cell_type": "code",
   "execution_count": 20,
   "metadata": {},
   "outputs": [],
   "source": [
    "from sklearn.utils import shuffle\n",
    "df = shuffle(df)"
   ]
  },
  {
   "cell_type": "code",
   "execution_count": 21,
   "metadata": {},
   "outputs": [
    {
     "data": {
      "text/html": [
       "<div>\n",
       "<style scoped>\n",
       "    .dataframe tbody tr th:only-of-type {\n",
       "        vertical-align: middle;\n",
       "    }\n",
       "\n",
       "    .dataframe tbody tr th {\n",
       "        vertical-align: top;\n",
       "    }\n",
       "\n",
       "    .dataframe thead th {\n",
       "        text-align: right;\n",
       "    }\n",
       "</style>\n",
       "<table border=\"1\" class=\"dataframe\">\n",
       "  <thead>\n",
       "    <tr style=\"text-align: right;\">\n",
       "      <th></th>\n",
       "      <th>Image</th>\n",
       "      <th>Label</th>\n",
       "    </tr>\n",
       "  </thead>\n",
       "  <tbody>\n",
       "    <tr>\n",
       "      <th>4289</th>\n",
       "      <td>[0, 17, 17, 43, 48, 70, 71, 94, 131, 138, 155,...</td>\n",
       "      <td>2</td>\n",
       "    </tr>\n",
       "    <tr>\n",
       "      <th>4448</th>\n",
       "      <td>[237, 232, 216, 190, 154, 159, 171, 127, 90, 1...</td>\n",
       "      <td>1</td>\n",
       "    </tr>\n",
       "    <tr>\n",
       "      <th>2288</th>\n",
       "      <td>[242, 244, 225, 227, 209, 213, 180, 160, 154, ...</td>\n",
       "      <td>3</td>\n",
       "    </tr>\n",
       "    <tr>\n",
       "      <th>394</th>\n",
       "      <td>[44, 36, 58, 41, 51, 34, 22, 14, 35, 40, 58, 8...</td>\n",
       "      <td>5</td>\n",
       "    </tr>\n",
       "    <tr>\n",
       "      <th>4439</th>\n",
       "      <td>[15, 34, 12, 22, 79, 59, 52, 46, 59, 72, 94, 1...</td>\n",
       "      <td>1</td>\n",
       "    </tr>\n",
       "  </tbody>\n",
       "</table>\n",
       "</div>"
      ],
      "text/plain": [
       "                                                  Image Label\n",
       "4289  [0, 17, 17, 43, 48, 70, 71, 94, 131, 138, 155,...     2\n",
       "4448  [237, 232, 216, 190, 154, 159, 171, 127, 90, 1...     1\n",
       "2288  [242, 244, 225, 227, 209, 213, 180, 160, 154, ...     3\n",
       "394   [44, 36, 58, 41, 51, 34, 22, 14, 35, 40, 58, 8...     5\n",
       "4439  [15, 34, 12, 22, 79, 59, 52, 46, 59, 72, 94, 1...     1"
      ]
     },
     "execution_count": 21,
     "metadata": {},
     "output_type": "execute_result"
    }
   ],
   "source": [
    "df.head()"
   ]
  },
  {
   "cell_type": "code",
   "execution_count": 22,
   "metadata": {},
   "outputs": [],
   "source": [
    "from sklearn.model_selection import train_test_split"
   ]
  },
  {
   "cell_type": "code",
   "execution_count": 23,
   "metadata": {},
   "outputs": [],
   "source": [
    "trainx,testx,trainy,testy=train_test_split(df[\"Image\"], df[\"Label\"], train_size=0.8,test_size=0.2)"
   ]
  },
  {
   "cell_type": "code",
   "execution_count": 24,
   "metadata": {},
   "outputs": [
    {
     "data": {
      "text/plain": [
       "(4346,)"
      ]
     },
     "execution_count": 24,
     "metadata": {},
     "output_type": "execute_result"
    }
   ],
   "source": [
    "trainx.shape"
   ]
  },
  {
   "cell_type": "code",
   "execution_count": 25,
   "metadata": {},
   "outputs": [
    {
     "name": "stdout",
     "output_type": "stream",
     "text": [
      "Requirement already satisfied: keras-tuner in /Library/Frameworks/Python.framework/Versions/3.8/lib/python3.8/site-packages (1.0.2)\n",
      "Requirement already satisfied: colorama in /Library/Frameworks/Python.framework/Versions/3.8/lib/python3.8/site-packages (from keras-tuner) (0.4.3)\n",
      "Requirement already satisfied: terminaltables in /Library/Frameworks/Python.framework/Versions/3.8/lib/python3.8/site-packages (from keras-tuner) (3.1.0)\n",
      "Requirement already satisfied: scipy in /Library/Frameworks/Python.framework/Versions/3.8/lib/python3.8/site-packages (from keras-tuner) (1.4.1)\n",
      "Requirement already satisfied: tqdm in /Library/Frameworks/Python.framework/Versions/3.8/lib/python3.8/site-packages (from keras-tuner) (4.46.1)\n",
      "Requirement already satisfied: packaging in /Library/Frameworks/Python.framework/Versions/3.8/lib/python3.8/site-packages (from keras-tuner) (20.3)\n",
      "Requirement already satisfied: scikit-learn in /Library/Frameworks/Python.framework/Versions/3.8/lib/python3.8/site-packages (from keras-tuner) (0.23.1)\n",
      "Requirement already satisfied: numpy in /Library/Frameworks/Python.framework/Versions/3.8/lib/python3.8/site-packages (from keras-tuner) (1.19.5)\n",
      "Requirement already satisfied: future in /Library/Frameworks/Python.framework/Versions/3.8/lib/python3.8/site-packages (from keras-tuner) (0.18.2)\n",
      "Requirement already satisfied: requests in /Library/Frameworks/Python.framework/Versions/3.8/lib/python3.8/site-packages (from keras-tuner) (2.23.0)\n",
      "Requirement already satisfied: tabulate in /Library/Frameworks/Python.framework/Versions/3.8/lib/python3.8/site-packages (from keras-tuner) (0.8.7)\n",
      "Requirement already satisfied: six in /Library/Frameworks/Python.framework/Versions/3.8/lib/python3.8/site-packages (from packaging->keras-tuner) (1.15.0)\n",
      "Requirement already satisfied: pyparsing>=2.0.2 in /Library/Frameworks/Python.framework/Versions/3.8/lib/python3.8/site-packages (from packaging->keras-tuner) (2.4.7)\n",
      "Requirement already satisfied: certifi>=2017.4.17 in /Library/Frameworks/Python.framework/Versions/3.8/lib/python3.8/site-packages (from requests->keras-tuner) (2020.4.5.1)\n",
      "Requirement already satisfied: chardet<4,>=3.0.2 in /Library/Frameworks/Python.framework/Versions/3.8/lib/python3.8/site-packages (from requests->keras-tuner) (3.0.4)\n",
      "Requirement already satisfied: idna<3,>=2.5 in /Library/Frameworks/Python.framework/Versions/3.8/lib/python3.8/site-packages (from requests->keras-tuner) (2.9)\n",
      "Requirement already satisfied: urllib3!=1.25.0,!=1.25.1,<1.26,>=1.21.1 in /Library/Frameworks/Python.framework/Versions/3.8/lib/python3.8/site-packages (from requests->keras-tuner) (1.25.11)\n",
      "Requirement already satisfied: joblib>=0.11 in /Library/Frameworks/Python.framework/Versions/3.8/lib/python3.8/site-packages (from scikit-learn->keras-tuner) (0.15.1)\n",
      "Requirement already satisfied: threadpoolctl>=2.0.0 in /Library/Frameworks/Python.framework/Versions/3.8/lib/python3.8/site-packages (from scikit-learn->keras-tuner) (2.1.0)\n",
      "\u001b[33mWARNING: You are using pip version 21.0; however, version 21.0.1 is available.\n",
      "You should consider upgrading via the '/Library/Frameworks/Python.framework/Versions/3.8/bin/python3 -m pip install --upgrade pip' command.\u001b[0m\n"
     ]
    }
   ],
   "source": [
    "!pip install keras-tuner"
   ]
  },
  {
   "cell_type": "code",
   "execution_count": 26,
   "metadata": {},
   "outputs": [],
   "source": [
    "import tensorflow as tf\n",
    "from tensorflow import keras\n",
    "import numpy as np"
   ]
  },
  {
   "cell_type": "code",
   "execution_count": 27,
   "metadata": {},
   "outputs": [],
   "source": [
    "def build_model(hp):  \n",
    "  model = keras.Sequential([\n",
    "    keras.layers.Conv2D(\n",
    "        filters=hp.Int('conv_1_filter', min_value=32, max_value=128, step=16),\n",
    "        kernel_size=hp.Choice('conv_1_kernel', values = [3,5]),\n",
    "        activation='relu',\n",
    "        input_shape=(64,64,1)\n",
    "    ),\n",
    "    keras.layers.Conv2D(\n",
    "        filters=hp.Int('conv_2_filter', min_value=32, max_value=64, step=16),\n",
    "        kernel_size=hp.Choice('conv_2_kernel', values = [3,5]),\n",
    "        activation='relu'\n",
    "    ),\n",
    "    keras.layers.Flatten(),\n",
    "    keras.layers.Dense(\n",
    "        units=hp.Int('dense_1_units', min_value=32, max_value=128, step=16),\n",
    "        activation='relu'\n",
    "    ),\n",
    "    keras.layers.Dense(5, activation='softmax')\n",
    "  ])\n",
    "  \n",
    "  model.compile(optimizer=keras.optimizers.Adam(hp.Choice('learning_rate', values=[1e-2, 1e-3])),\n",
    "              loss='sparse_categorical_crossentropy',\n",
    "              metrics=['accuracy'])\n",
    "  \n",
    "  return model"
   ]
  },
  {
   "cell_type": "code",
   "execution_count": 28,
   "metadata": {},
   "outputs": [],
   "source": [
    "from kerastuner import RandomSearch\n",
    "from kerastuner.engine.hyperparameters import HyperParameters"
   ]
  },
  {
   "cell_type": "code",
   "execution_count": 29,
   "metadata": {},
   "outputs": [],
   "source": [
    "tuner_search=RandomSearch(build_model,\n",
    "                          objective='val_accuracy',\n",
    "                          max_trials=5,directory='output',project_name=\"Emot\")"
   ]
  },
  {
   "cell_type": "code",
   "execution_count": 30,
   "metadata": {},
   "outputs": [],
   "source": [
    "trainx=np.asarray(trainx)\n",
    "trainy=np.asarray(trainy)"
   ]
  },
  {
   "cell_type": "code",
   "execution_count": null,
   "metadata": {},
   "outputs": [],
   "source": [
    "tr"
   ]
  },
  {
   "cell_type": "code",
   "execution_count": 44,
   "metadata": {},
   "outputs": [
    {
     "data": {
      "text/plain": [
       "(4346, 64, 64, 1)"
      ]
     },
     "execution_count": 44,
     "metadata": {},
     "output_type": "execute_result"
    }
   ],
   "source": [
    "traindata.shape"
   ]
  },
  {
   "cell_type": "code",
   "execution_count": 45,
   "metadata": {},
   "outputs": [
    {
     "data": {
      "text/plain": [
       "(4346,)"
      ]
     },
     "execution_count": 45,
     "metadata": {},
     "output_type": "execute_result"
    }
   ],
   "source": [
    "trainy.shape"
   ]
  },
  {
   "cell_type": "code",
   "execution_count": 46,
   "metadata": {},
   "outputs": [
    {
     "data": {
      "text/plain": [
       "array(['3', '4', '1', ..., '2', '2', '2'], dtype=object)"
      ]
     },
     "execution_count": 46,
     "metadata": {},
     "output_type": "execute_result"
    }
   ],
   "source": [
    "trainy"
   ]
  },
  {
   "cell_type": "code",
   "execution_count": 47,
   "metadata": {},
   "outputs": [],
   "source": [
    "trainy = np.asarray(trainy).astype('float32')"
   ]
  },
  {
   "cell_type": "code",
   "execution_count": 48,
   "metadata": {},
   "outputs": [
    {
     "name": "stdout",
     "output_type": "stream",
     "text": [
      "Trial 7 Complete [00h 05m 21s]\n",
      "val_accuracy: 0.2344827651977539\n",
      "\n",
      "Best val_accuracy So Far: 0.5126436948776245\n",
      "Total elapsed time: 00h 29m 28s\n",
      "INFO:tensorflow:Oracle triggered exit\n"
     ]
    }
   ],
   "source": [
    "tuner_search.search(traindata,trainy,epochs=3,validation_split=0.1)"
   ]
  },
  {
   "cell_type": "code",
   "execution_count": 49,
   "metadata": {},
   "outputs": [],
   "source": [
    "model=tuner_search.get_best_models(num_models=1)[0]"
   ]
  },
  {
   "cell_type": "code",
   "execution_count": 50,
   "metadata": {},
   "outputs": [
    {
     "name": "stdout",
     "output_type": "stream",
     "text": [
      "Model: \"sequential\"\n",
      "_________________________________________________________________\n",
      "Layer (type)                 Output Shape              Param #   \n",
      "=================================================================\n",
      "conv2d (Conv2D)              (None, 62, 62, 112)       1120      \n",
      "_________________________________________________________________\n",
      "conv2d_1 (Conv2D)            (None, 60, 60, 48)        48432     \n",
      "_________________________________________________________________\n",
      "flatten (Flatten)            (None, 172800)            0         \n",
      "_________________________________________________________________\n",
      "dense (Dense)                (None, 64)                11059264  \n",
      "_________________________________________________________________\n",
      "dense_1 (Dense)              (None, 10)                650       \n",
      "=================================================================\n",
      "Total params: 11,109,466\n",
      "Trainable params: 11,109,466\n",
      "Non-trainable params: 0\n",
      "_________________________________________________________________\n"
     ]
    }
   ],
   "source": [
    "model.summary()"
   ]
  },
  {
   "cell_type": "code",
   "execution_count": null,
   "metadata": {},
   "outputs": [],
   "source": [
    "model.fit(traindata, trainy, epochs=50, validation_split=0.1, initial_epoch=3)"
   ]
  },
  {
   "cell_type": "code",
   "execution_count": 56,
   "metadata": {},
   "outputs": [
    {
     "name": "stdout",
     "output_type": "stream",
     "text": [
      "Model: \"sequential\"\n",
      "_________________________________________________________________\n",
      "Layer (type)                 Output Shape              Param #   \n",
      "=================================================================\n",
      "conv2d (Conv2D)              (None, 62, 62, 112)       1120      \n",
      "_________________________________________________________________\n",
      "conv2d_1 (Conv2D)            (None, 60, 60, 48)        48432     \n",
      "_________________________________________________________________\n",
      "flatten (Flatten)            (None, 172800)            0         \n",
      "_________________________________________________________________\n",
      "dense (Dense)                (None, 64)                11059264  \n",
      "_________________________________________________________________\n",
      "dense_1 (Dense)              (None, 10)                650       \n",
      "=================================================================\n",
      "Total params: 11,109,466\n",
      "Trainable params: 11,109,466\n",
      "Non-trainable params: 0\n",
      "_________________________________________________________________\n"
     ]
    }
   ],
   "source": [
    "model.summary()"
   ]
  },
  {
   "cell_type": "code",
   "execution_count": 57,
   "metadata": {},
   "outputs": [],
   "source": [
    "model.save(\"keras_model.h5\")"
   ]
  },
  {
   "cell_type": "code",
   "execution_count": null,
   "metadata": {},
   "outputs": [],
   "source": []
  },
  {
   "cell_type": "code",
   "execution_count": null,
   "metadata": {},
   "outputs": [],
   "source": []
  },
  {
   "cell_type": "markdown",
   "metadata": {},
   "source": [
    "# Above"
   ]
  },
  {
   "cell_type": "code",
   "execution_count": 52,
   "metadata": {},
   "outputs": [
    {
     "data": {
      "text/plain": [
       "(4096,)"
      ]
     },
     "execution_count": 52,
     "metadata": {},
     "output_type": "execute_result"
    }
   ],
   "source": [
    "trainx[0].shape"
   ]
  },
  {
   "cell_type": "code",
   "execution_count": 53,
   "metadata": {},
   "outputs": [
    {
     "data": {
      "text/plain": [
       "numpy.ndarray"
      ]
     },
     "execution_count": 53,
     "metadata": {},
     "output_type": "execute_result"
    }
   ],
   "source": [
    "type(trainx[0])"
   ]
  },
  {
   "cell_type": "code",
   "execution_count": 71,
   "metadata": {},
   "outputs": [
    {
     "data": {
      "text/plain": [
       "array([211, 215, 199, ..., 255, 255, 255], dtype=uint8)"
      ]
     },
     "execution_count": 71,
     "metadata": {},
     "output_type": "execute_result"
    }
   ],
   "source": [
    "trainx[0]"
   ]
  },
  {
   "cell_type": "code",
   "execution_count": 73,
   "metadata": {},
   "outputs": [],
   "source": [
    "a=trainx[0].reshape(64,64)"
   ]
  },
  {
   "cell_type": "code",
   "execution_count": 74,
   "metadata": {},
   "outputs": [
    {
     "data": {
      "text/plain": [
       "(64, 64)"
      ]
     },
     "execution_count": 74,
     "metadata": {},
     "output_type": "execute_result"
    }
   ],
   "source": [
    "a.shape"
   ]
  },
  {
   "cell_type": "code",
   "execution_count": 58,
   "metadata": {},
   "outputs": [],
   "source": [
    "a=np.asarray(trainx)"
   ]
  },
  {
   "cell_type": "code",
   "execution_count": 59,
   "metadata": {},
   "outputs": [
    {
     "data": {
      "text/plain": [
       "numpy.ndarray"
      ]
     },
     "execution_count": 59,
     "metadata": {},
     "output_type": "execute_result"
    }
   ],
   "source": [
    "type(a)"
   ]
  },
  {
   "cell_type": "code",
   "execution_count": 56,
   "metadata": {},
   "outputs": [
    {
     "data": {
      "text/plain": [
       "pandas.core.series.Series"
      ]
     },
     "execution_count": 56,
     "metadata": {},
     "output_type": "execute_result"
    }
   ],
   "source": [
    "type(trainy)"
   ]
  },
  {
   "cell_type": "code",
   "execution_count": 57,
   "metadata": {},
   "outputs": [
    {
     "data": {
      "text/plain": [
       "4525    4\n",
       "1143    2\n",
       "431     1\n",
       "1641    2\n",
       "3635    4\n",
       "       ..\n",
       "1357    2\n",
       "4010    4\n",
       "301     1\n",
       "2982    3\n",
       "4811    5\n",
       "Name: Label, Length: 4346, dtype: object"
      ]
     },
     "execution_count": 57,
     "metadata": {},
     "output_type": "execute_result"
    }
   ],
   "source": [
    "trainy"
   ]
  },
  {
   "cell_type": "code",
   "execution_count": 63,
   "metadata": {},
   "outputs": [],
   "source": [
    "from keras.models import Sequential"
   ]
  },
  {
   "cell_type": "code",
   "execution_count": 65,
   "metadata": {},
   "outputs": [],
   "source": [
    "from keras.models import Sequential\n",
    "from keras.layers import Dense , Activation , Dropout ,Flatten\n",
    "from keras.layers.convolutional import Conv2D\n",
    "from keras.layers.convolutional import MaxPooling2D\n",
    "from keras.metrics import categorical_accuracy\n",
    "from keras.models import model_from_json\n",
    "from keras.callbacks import ModelCheckpoint\n",
    "from keras.optimizers import *\n",
    "from keras.layers.normalization import BatchNormalization"
   ]
  },
  {
   "cell_type": "code",
   "execution_count": 125,
   "metadata": {},
   "outputs": [
    {
     "data": {
      "text/plain": [
       "(64, 64, 1)"
      ]
     },
     "execution_count": 125,
     "metadata": {},
     "output_type": "execute_result"
    }
   ],
   "source": [
    "traindata[0].shape"
   ]
  },
  {
   "cell_type": "code",
   "execution_count": 132,
   "metadata": {},
   "outputs": [],
   "source": [
    "model = Sequential()\n",
    "\n",
    "\n",
    "input_shape = (64,64,1)\n",
    "\n",
    "\n",
    "model.add(Conv2D(64, (5, 5), input_shape=input_shape,activation='relu', padding='same'))\n",
    "model.add(Conv2D(64, (5, 5), padding='same'))\n",
    "model.add(BatchNormalization())\n",
    "model.add(Activation('relu'))\n",
    "model.add(MaxPooling2D(pool_size=(2, 2)))\n",
    "\n",
    "\n",
    "model.add(Conv2D(128, (5, 5),activation='relu',padding='same'))\n",
    "model.add(Conv2D(128, (5, 5),padding='same'))\n",
    "model.add(BatchNormalization())\n",
    "model.add(Activation('relu'))\n",
    "model.add(MaxPooling2D(pool_size=(2, 2)))\n",
    "\n",
    "model.add(Conv2D(256, (3, 3),activation='relu',padding='same'))\n",
    "model.add(Conv2D(256, (3, 3),activation='relu',padding='same'))\n",
    "model.add(BatchNormalization())\n",
    "model.add(MaxPooling2D(pool_size=(2, 2)))\n",
    "\n",
    "## (15, 15) --->  30\n",
    "model.add(Flatten())\n",
    "model.add(Dense(6, activation='softmax'))\n",
    "\n",
    "model.compile(loss='categorical_crossentropy', metrics=['accuracy'],optimizer='adam')"
   ]
  },
  {
   "cell_type": "code",
   "execution_count": 127,
   "metadata": {},
   "outputs": [
    {
     "data": {
      "text/plain": [
       "array([4, 2, 1, ..., 1, 3, 5], dtype=uint8)"
      ]
     },
     "execution_count": 127,
     "metadata": {},
     "output_type": "execute_result"
    }
   ],
   "source": [
    "trainy"
   ]
  },
  {
   "cell_type": "code",
   "execution_count": 128,
   "metadata": {},
   "outputs": [],
   "source": [
    "from keras.utils import to_categorical\n",
    "y_new = to_categorical(trainy, num_classes=6)"
   ]
  },
  {
   "cell_type": "code",
   "execution_count": 130,
   "metadata": {},
   "outputs": [
    {
     "data": {
      "text/plain": [
       "array([[0., 0., 0., 0., 1., 0.],\n",
       "       [0., 0., 1., 0., 0., 0.],\n",
       "       [0., 1., 0., 0., 0., 0.],\n",
       "       ...,\n",
       "       [0., 1., 0., 0., 0., 0.],\n",
       "       [0., 0., 0., 1., 0., 0.],\n",
       "       [0., 0., 0., 0., 0., 1.]], dtype=float32)"
      ]
     },
     "execution_count": 130,
     "metadata": {},
     "output_type": "execute_result"
    }
   ],
   "source": [
    "y_new"
   ]
  },
  {
   "cell_type": "code",
   "execution_count": 133,
   "metadata": {},
   "outputs": [
    {
     "name": "stdout",
     "output_type": "stream",
     "text": [
      "Epoch 1/5\n",
      "55/55 [==============================] - 283s 5s/step - loss: 4.4990 - accuracy: 0.2300 - val_loss: 11.3417 - val_accuracy: 0.1954\n",
      "Epoch 2/5\n",
      "55/55 [==============================] - 292s 5s/step - loss: 2.1957 - accuracy: 0.2989 - val_loss: 1.9691 - val_accuracy: 0.2621\n",
      "Epoch 3/5\n",
      "55/55 [==============================] - 340s 6s/step - loss: 2.0151 - accuracy: 0.3210 - val_loss: 1.7376 - val_accuracy: 0.2989\n",
      "Epoch 4/5\n",
      "55/55 [==============================] - 321s 6s/step - loss: 1.9526 - accuracy: 0.3475 - val_loss: 1.8101 - val_accuracy: 0.2310\n",
      "Epoch 5/5\n",
      "55/55 [==============================] - 443s 8s/step - loss: 1.7196 - accuracy: 0.3791 - val_loss: 1.7320 - val_accuracy: 0.3034\n"
     ]
    },
    {
     "data": {
      "text/plain": [
       "<tensorflow.python.keras.callbacks.History at 0x7f9fc66f4670>"
      ]
     },
     "execution_count": 133,
     "metadata": {},
     "output_type": "execute_result"
    }
   ],
   "source": [
    "model.fit(traindata, y_new, epochs=5, batch_size=64, shuffle=True, validation_split=0.2)"
   ]
  },
  {
   "cell_type": "code",
   "execution_count": 135,
   "metadata": {},
   "outputs": [
    {
     "name": "stdout",
     "output_type": "stream",
     "text": [
      "Epoch 6/50\n",
      "109/109 [==============================] - 355s 3s/step - loss: 1.9770 - accuracy: 0.3631 - val_loss: 2.3518 - val_accuracy: 0.2276\n",
      "Epoch 7/50\n",
      "109/109 [==============================] - 353s 3s/step - loss: 1.6099 - accuracy: 0.4108 - val_loss: 1.5135 - val_accuracy: 0.3897\n",
      "Epoch 8/50\n",
      "109/109 [==============================] - 368s 3s/step - loss: 1.3907 - accuracy: 0.4727 - val_loss: 1.5155 - val_accuracy: 0.4069\n",
      "Epoch 9/50\n",
      "109/109 [==============================] - 285s 3s/step - loss: 1.3215 - accuracy: 0.4994 - val_loss: 1.7655 - val_accuracy: 0.3828\n",
      "Epoch 10/50\n",
      "109/109 [==============================] - 274s 3s/step - loss: 1.2349 - accuracy: 0.5291 - val_loss: 1.4511 - val_accuracy: 0.4264\n",
      "Epoch 11/50\n",
      "109/109 [==============================] - 272s 2s/step - loss: 1.1427 - accuracy: 0.5688 - val_loss: 1.8633 - val_accuracy: 0.3494\n",
      "Epoch 12/50\n",
      "109/109 [==============================] - 291s 3s/step - loss: 1.0689 - accuracy: 0.5932 - val_loss: 1.7281 - val_accuracy: 0.3793\n",
      "Epoch 13/50\n",
      "109/109 [==============================] - 274s 3s/step - loss: 1.0475 - accuracy: 0.6119 - val_loss: 1.5298 - val_accuracy: 0.4563\n",
      "Epoch 14/50\n",
      "109/109 [==============================] - 269s 2s/step - loss: 0.9420 - accuracy: 0.6516 - val_loss: 1.4229 - val_accuracy: 0.4644\n",
      "Epoch 15/50\n",
      "109/109 [==============================] - 267s 2s/step - loss: 0.8106 - accuracy: 0.7043 - val_loss: 2.0270 - val_accuracy: 0.4080\n",
      "Epoch 16/50\n",
      "109/109 [==============================] - 264s 2s/step - loss: 0.7530 - accuracy: 0.7238 - val_loss: 1.5813 - val_accuracy: 0.4851\n",
      "Epoch 17/50\n",
      "109/109 [==============================] - 263s 2s/step - loss: 0.7613 - accuracy: 0.7255 - val_loss: 2.0925 - val_accuracy: 0.3540\n",
      "Epoch 18/50\n",
      "109/109 [==============================] - 263s 2s/step - loss: 0.6551 - accuracy: 0.7532 - val_loss: 2.4309 - val_accuracy: 0.4667\n",
      "Epoch 19/50\n",
      "109/109 [==============================] - 262s 2s/step - loss: 0.5273 - accuracy: 0.8116 - val_loss: 1.9343 - val_accuracy: 0.4264\n",
      "Epoch 20/50\n",
      "109/109 [==============================] - 262s 2s/step - loss: 0.4121 - accuracy: 0.8541 - val_loss: 1.6580 - val_accuracy: 0.5655\n",
      "Epoch 21/50\n",
      "109/109 [==============================] - 262s 2s/step - loss: 0.3875 - accuracy: 0.8619 - val_loss: 5.5515 - val_accuracy: 0.3069\n",
      "Epoch 22/50\n",
      "109/109 [==============================] - 269s 2s/step - loss: 0.3664 - accuracy: 0.8691 - val_loss: 1.9991 - val_accuracy: 0.5172\n",
      "Epoch 23/50\n",
      "109/109 [==============================] - 265s 2s/step - loss: 0.2722 - accuracy: 0.9094 - val_loss: 14.7591 - val_accuracy: 0.1908\n",
      "Epoch 24/50\n",
      "109/109 [==============================] - 271s 2s/step - loss: 0.2608 - accuracy: 0.9074 - val_loss: 2.2079 - val_accuracy: 0.5540\n",
      "Epoch 25/50\n",
      "109/109 [==============================] - 290s 3s/step - loss: 0.1621 - accuracy: 0.9514 - val_loss: 2.3297 - val_accuracy: 0.5897\n",
      "Epoch 26/50\n",
      "109/109 [==============================] - 269s 2s/step - loss: 0.1480 - accuracy: 0.9609 - val_loss: 2.1908 - val_accuracy: 0.5793\n",
      "Epoch 27/50\n",
      "109/109 [==============================] - 246s 2s/step - loss: 0.1764 - accuracy: 0.9430 - val_loss: 2.7414 - val_accuracy: 0.5000\n",
      "Epoch 28/50\n",
      "109/109 [==============================] - 293s 3s/step - loss: 0.1533 - accuracy: 0.9566 - val_loss: 2.2996 - val_accuracy: 0.5839\n",
      "Epoch 29/50\n",
      "109/109 [==============================] - 329s 3s/step - loss: 0.1171 - accuracy: 0.9718 - val_loss: 2.4844 - val_accuracy: 0.5609\n",
      "Epoch 30/50\n",
      "109/109 [==============================] - 336s 3s/step - loss: 0.1006 - accuracy: 0.9778 - val_loss: 2.3959 - val_accuracy: 0.5667\n",
      "Epoch 31/50\n",
      "109/109 [==============================] - 323s 3s/step - loss: 0.1045 - accuracy: 0.9804 - val_loss: 2.2980 - val_accuracy: 0.5770\n",
      "Epoch 32/50\n",
      "109/109 [==============================] - 321s 3s/step - loss: 0.1306 - accuracy: 0.9704 - val_loss: 2.3009 - val_accuracy: 0.5644\n",
      "Epoch 33/50\n",
      "109/109 [==============================] - 311s 3s/step - loss: 0.1341 - accuracy: 0.9591 - val_loss: 2.8333 - val_accuracy: 0.5448\n",
      "Epoch 34/50\n",
      "109/109 [==============================] - 243s 2s/step - loss: 0.1584 - accuracy: 0.9629 - val_loss: 4.0941 - val_accuracy: 0.4931\n",
      "Epoch 35/50\n",
      "109/109 [==============================] - 271s 2s/step - loss: 0.2754 - accuracy: 0.9146 - val_loss: 5.1269 - val_accuracy: 0.4218\n",
      "Epoch 36/50\n",
      "109/109 [==============================] - 305s 3s/step - loss: 0.5445 - accuracy: 0.8524 - val_loss: 4.4535 - val_accuracy: 0.4575\n",
      "Epoch 37/50\n",
      "109/109 [==============================] - 320s 3s/step - loss: 0.5049 - accuracy: 0.8642 - val_loss: 3.8969 - val_accuracy: 0.4828\n",
      "Epoch 38/50\n",
      "109/109 [==============================] - 328s 3s/step - loss: 0.2410 - accuracy: 0.9367 - val_loss: 3.2425 - val_accuracy: 0.5690\n",
      "Epoch 39/50\n",
      "109/109 [==============================] - 315s 3s/step - loss: 0.1285 - accuracy: 0.9675 - val_loss: 3.2554 - val_accuracy: 0.5839\n",
      "Epoch 40/50\n",
      "109/109 [==============================] - 238s 2s/step - loss: 0.0883 - accuracy: 0.9862 - val_loss: 3.1330 - val_accuracy: 0.5920\n",
      "Epoch 41/50\n",
      "109/109 [==============================] - 235s 2s/step - loss: 0.0788 - accuracy: 0.9873 - val_loss: 2.8583 - val_accuracy: 0.5874\n",
      "Epoch 42/50\n",
      "109/109 [==============================] - 233s 2s/step - loss: 0.0859 - accuracy: 0.9896 - val_loss: 3.0155 - val_accuracy: 0.5977\n",
      "Epoch 43/50\n",
      "109/109 [==============================] - 227s 2s/step - loss: 0.0599 - accuracy: 0.9934 - val_loss: 2.6641 - val_accuracy: 0.5770\n",
      "Epoch 44/50\n",
      "109/109 [==============================] - 246s 2s/step - loss: 0.0799 - accuracy: 0.9919 - val_loss: 2.9923 - val_accuracy: 0.5954\n",
      "Epoch 45/50\n",
      "109/109 [==============================] - 281s 3s/step - loss: 0.0657 - accuracy: 0.9934 - val_loss: 2.5957 - val_accuracy: 0.6011\n",
      "Epoch 46/50\n",
      "109/109 [==============================] - 285s 3s/step - loss: 0.0554 - accuracy: 0.9945 - val_loss: 2.5953 - val_accuracy: 0.5966\n",
      "Epoch 47/50\n",
      "109/109 [==============================] - 262s 2s/step - loss: 0.0576 - accuracy: 0.9931 - val_loss: 2.5345 - val_accuracy: 0.5816\n",
      "Epoch 48/50\n",
      "109/109 [==============================] - 275s 3s/step - loss: 0.0632 - accuracy: 0.9925 - val_loss: 2.8221 - val_accuracy: 0.5494\n",
      "Epoch 49/50\n",
      "109/109 [==============================] - 257s 2s/step - loss: 0.0615 - accuracy: 0.9925 - val_loss: 2.4641 - val_accuracy: 0.5931\n",
      "Epoch 50/50\n",
      "109/109 [==============================] - 249s 2s/step - loss: 0.0473 - accuracy: 0.9940 - val_loss: 2.4861 - val_accuracy: 0.5828\n"
     ]
    },
    {
     "data": {
      "text/plain": [
       "<tensorflow.python.keras.callbacks.History at 0x7f9fc5c887f0>"
      ]
     },
     "execution_count": 135,
     "metadata": {},
     "output_type": "execute_result"
    }
   ],
   "source": [
    "model.fit(traindata, y_new, epochs=50, validation_split=0.2, initial_epoch=5)"
   ]
  },
  {
   "cell_type": "code",
   "execution_count": 70,
   "metadata": {},
   "outputs": [
    {
     "data": {
      "text/plain": [
       "(4096,)"
      ]
     },
     "execution_count": 70,
     "metadata": {},
     "output_type": "execute_result"
    }
   ],
   "source": [
    "trainx[0].shape"
   ]
  },
  {
   "cell_type": "code",
   "execution_count": null,
   "metadata": {},
   "outputs": [],
   "source": [
    "x = np.asarray(x).astype('float32')"
   ]
  },
  {
   "cell_type": "code",
   "execution_count": 31,
   "metadata": {},
   "outputs": [],
   "source": [
    "traindata=[]\n",
    "for i in range (len(trainx)):\n",
    "    trx=trainx[i].reshape((64,64))\n",
    "    traindata.append(trx)\n",
    "    \n",
    "    "
   ]
  },
  {
   "cell_type": "code",
   "execution_count": 32,
   "metadata": {},
   "outputs": [],
   "source": [
    "traindata=np.asarray(traindata)"
   ]
  },
  {
   "cell_type": "code",
   "execution_count": 33,
   "metadata": {},
   "outputs": [
    {
     "data": {
      "text/plain": [
       "(4346, 64, 64)"
      ]
     },
     "execution_count": 33,
     "metadata": {},
     "output_type": "execute_result"
    }
   ],
   "source": [
    "traindata.shape"
   ]
  },
  {
   "cell_type": "code",
   "execution_count": 34,
   "metadata": {},
   "outputs": [
    {
     "data": {
      "text/plain": [
       "array([[[ 34,  38,  31, ...,  24,  24,  24],\n",
       "        [ 26,  30,  25, ...,  20,  20,  20],\n",
       "        [ 28,  30,  25, ...,  22,  22,  22],\n",
       "        ...,\n",
       "        [ 24,  79, 165, ...,  35,  34,  34],\n",
       "        [ 73, 177, 208, ...,  33,  32,  31],\n",
       "        [156, 205, 165, ...,  33,  32,  32]],\n",
       "\n",
       "       [[ 36,  32,  25, ..., 186, 186, 186],\n",
       "        [ 37,  34,  29, ..., 189, 188, 188],\n",
       "        [ 38,  38,  36, ..., 188, 187, 186],\n",
       "        ...,\n",
       "        [ 76,  78,  81, ...,   3,   3,   3],\n",
       "        [ 74,  77,  81, ...,   6,   6,   6],\n",
       "        [ 71,  75,  80, ...,  12,  12,  12]],\n",
       "\n",
       "       [[ 43,  34,  40, ..., 181, 185, 193],\n",
       "        [ 52,  38,  38, ..., 184, 186, 193],\n",
       "        [ 53,  36,  30, ..., 185, 187, 193],\n",
       "        ...,\n",
       "        [183, 157, 161, ..., 200, 200, 201],\n",
       "        [186, 160, 168, ..., 204, 207, 203],\n",
       "        [181, 172, 178, ..., 208, 213, 207]],\n",
       "\n",
       "       ...,\n",
       "\n",
       "       [[ 64,  57,  43, ...,  31,  35,  31],\n",
       "        [ 63,  53,  36, ...,  20,  31,  38],\n",
       "        [ 61,  45,  25, ...,   7,  25,  45],\n",
       "        ...,\n",
       "        [ 46,  39,  31, ...,  19,  18,  17],\n",
       "        [ 48,  42,  35, ...,  16,  18,  19],\n",
       "        [ 50,  45,  38, ...,  13,  16,  20]],\n",
       "\n",
       "       [[  0,   5,   9, ...,  13,  10,  11],\n",
       "        [  4,   7,   8, ...,   7,  14,  19],\n",
       "        [  3,   4,   6, ...,  10,  20,  21],\n",
       "        ...,\n",
       "        [  6,   8,   9, ...,  40,  40,  33],\n",
       "        [  6,   7,   9, ...,  31,  31,  24],\n",
       "        [  5,   7,   9, ...,  22,  21,  13]],\n",
       "\n",
       "       [[162, 161, 165, ..., 114, 123, 120],\n",
       "        [165, 163, 166, ..., 107, 116, 116],\n",
       "        [164, 162, 163, ..., 104, 110, 113],\n",
       "        ...,\n",
       "        [228, 241, 251, ..., 212, 208, 200],\n",
       "        [225, 237, 248, ..., 218, 213, 205],\n",
       "        [223, 235, 245, ..., 225, 226, 224]]], dtype=uint8)"
      ]
     },
     "execution_count": 34,
     "metadata": {},
     "output_type": "execute_result"
    }
   ],
   "source": [
    "traindata"
   ]
  },
  {
   "cell_type": "code",
   "execution_count": 35,
   "metadata": {},
   "outputs": [
    {
     "data": {
      "text/plain": [
       "array(['3', '4', '1', ..., '2', '2', '2'], dtype=object)"
      ]
     },
     "execution_count": 35,
     "metadata": {},
     "output_type": "execute_result"
    }
   ],
   "source": [
    "trainy"
   ]
  },
  {
   "cell_type": "code",
   "execution_count": 87,
   "metadata": {},
   "outputs": [
    {
     "data": {
      "text/plain": [
       "array([array([211, 215, 199, ..., 255, 255, 255], dtype=uint8),\n",
       "       array([191, 199, 208, ...,  17,  62, 122], dtype=uint8),\n",
       "       array([ 66,  43,  72, ..., 227, 138, 149], dtype=uint8), ...,\n",
       "       array([247, 247, 247, ..., 171, 167, 160], dtype=uint8),\n",
       "       array([ 16,  13,  10, ..., 134, 131, 130], dtype=uint8),\n",
       "       array([ 92,  98, 107, ...,  16,  11,   0], dtype=uint8)],\n",
       "      dtype=object)"
      ]
     },
     "execution_count": 87,
     "metadata": {},
     "output_type": "execute_result"
    }
   ],
   "source": [
    "trainx"
   ]
  },
  {
   "cell_type": "code",
   "execution_count": 88,
   "metadata": {},
   "outputs": [
    {
     "data": {
      "text/plain": [
       "array([[[211, 215, 199, ..., 158, 184, 190],\n",
       "        [219, 214, 207, ..., 184, 204, 211],\n",
       "        [217, 203, 203, ..., 204, 212, 220],\n",
       "        ...,\n",
       "        [255, 253, 249, ..., 253, 255, 255],\n",
       "        [255, 254, 252, ..., 255, 255, 255],\n",
       "        [255, 255, 255, ..., 255, 255, 255]],\n",
       "\n",
       "       [[191, 199, 208, ..., 244, 255, 247],\n",
       "        [192, 194, 194, ..., 247, 254, 249],\n",
       "        [199, 204, 206, ..., 251, 251, 252],\n",
       "        ...,\n",
       "        [175, 176, 175, ..., 170, 183, 188],\n",
       "        [173, 170, 167, ...,  78, 134, 187],\n",
       "        [175, 168, 161, ...,  17,  62, 122]],\n",
       "\n",
       "       [[ 66,  43,  72, ..., 255, 249, 246],\n",
       "        [ 65,  52,  72, ..., 251, 244, 247],\n",
       "        [ 72,  68,  67, ..., 249, 241, 252],\n",
       "        ...,\n",
       "        [154, 138, 130, ..., 211, 251, 137],\n",
       "        [139, 139, 153, ..., 251, 217,  98],\n",
       "        [116, 121, 147, ..., 227, 138, 149]],\n",
       "\n",
       "       ...,\n",
       "\n",
       "       [[247, 247, 247, ...,  38,  27,  61],\n",
       "        [247, 247, 247, ...,  41,  30,  49],\n",
       "        [247, 247, 247, ...,  41,  28,  28],\n",
       "        ...,\n",
       "        [247, 247, 247, ..., 169, 167, 164],\n",
       "        [247, 247, 247, ..., 170, 167, 162],\n",
       "        [247, 247, 247, ..., 171, 167, 160]],\n",
       "\n",
       "       [[ 16,  13,  10, ...,  32,  32,  32],\n",
       "        [ 17,  13,   9, ...,  26,  29,  30],\n",
       "        [ 18,  13,   8, ...,  17,  23,  26],\n",
       "        ...,\n",
       "        [ 24,  24,  24, ..., 120, 118, 118],\n",
       "        [ 24,  24,  24, ..., 131, 128, 127],\n",
       "        [ 24,  24,  24, ..., 134, 131, 130]],\n",
       "\n",
       "       [[ 92,  98, 107, ...,  90,  88,  82],\n",
       "        [ 92,  96, 104, ...,  91,  91,  85],\n",
       "        [ 93,  93,  99, ...,  91,  92,  87],\n",
       "        ...,\n",
       "        [101,  97,  96, ...,  14,  13,  11],\n",
       "        [ 97,  97, 103, ...,  15,  12,   3],\n",
       "        [ 94,  99, 109, ...,  16,  11,   0]]], dtype=uint8)"
      ]
     },
     "execution_count": 88,
     "metadata": {},
     "output_type": "execute_result"
    }
   ],
   "source": [
    "traindata"
   ]
  },
  {
   "cell_type": "code",
   "execution_count": 94,
   "metadata": {},
   "outputs": [
    {
     "ename": "TypeError",
     "evalue": "Invalid shape (64, 64, 1) for image data",
     "output_type": "error",
     "traceback": [
      "\u001b[0;31m---------------------------------------------------------------------------\u001b[0m",
      "\u001b[0;31mTypeError\u001b[0m                                 Traceback (most recent call last)",
      "\u001b[0;32m<ipython-input-94-47e4ca8fc794>\u001b[0m in \u001b[0;36m<module>\u001b[0;34m\u001b[0m\n\u001b[0;32m----> 1\u001b[0;31m \u001b[0mplt\u001b[0m\u001b[0;34m.\u001b[0m\u001b[0mimshow\u001b[0m\u001b[0;34m(\u001b[0m\u001b[0mtraindata\u001b[0m\u001b[0;34m[\u001b[0m\u001b[0;36m0\u001b[0m\u001b[0;34m]\u001b[0m\u001b[0;34m)\u001b[0m\u001b[0;34m\u001b[0m\u001b[0;34m\u001b[0m\u001b[0m\n\u001b[0m",
      "\u001b[0;32m/Library/Frameworks/Python.framework/Versions/3.8/lib/python3.8/site-packages/matplotlib/pyplot.py\u001b[0m in \u001b[0;36mimshow\u001b[0;34m(X, cmap, norm, aspect, interpolation, alpha, vmin, vmax, origin, extent, shape, filternorm, filterrad, imlim, resample, url, data, **kwargs)\u001b[0m\n\u001b[1;32m   2643\u001b[0m         \u001b[0mfilterrad\u001b[0m\u001b[0;34m=\u001b[0m\u001b[0;36m4.0\u001b[0m\u001b[0;34m,\u001b[0m \u001b[0mimlim\u001b[0m\u001b[0;34m=\u001b[0m\u001b[0mcbook\u001b[0m\u001b[0;34m.\u001b[0m\u001b[0mdeprecation\u001b[0m\u001b[0;34m.\u001b[0m\u001b[0m_deprecated_parameter\u001b[0m\u001b[0;34m,\u001b[0m\u001b[0;34m\u001b[0m\u001b[0;34m\u001b[0m\u001b[0m\n\u001b[1;32m   2644\u001b[0m         resample=None, url=None, *, data=None, **kwargs):\n\u001b[0;32m-> 2645\u001b[0;31m     __ret = gca().imshow(\n\u001b[0m\u001b[1;32m   2646\u001b[0m         \u001b[0mX\u001b[0m\u001b[0;34m,\u001b[0m \u001b[0mcmap\u001b[0m\u001b[0;34m=\u001b[0m\u001b[0mcmap\u001b[0m\u001b[0;34m,\u001b[0m \u001b[0mnorm\u001b[0m\u001b[0;34m=\u001b[0m\u001b[0mnorm\u001b[0m\u001b[0;34m,\u001b[0m \u001b[0maspect\u001b[0m\u001b[0;34m=\u001b[0m\u001b[0maspect\u001b[0m\u001b[0;34m,\u001b[0m\u001b[0;34m\u001b[0m\u001b[0;34m\u001b[0m\u001b[0m\n\u001b[1;32m   2647\u001b[0m         \u001b[0minterpolation\u001b[0m\u001b[0;34m=\u001b[0m\u001b[0minterpolation\u001b[0m\u001b[0;34m,\u001b[0m \u001b[0malpha\u001b[0m\u001b[0;34m=\u001b[0m\u001b[0malpha\u001b[0m\u001b[0;34m,\u001b[0m \u001b[0mvmin\u001b[0m\u001b[0;34m=\u001b[0m\u001b[0mvmin\u001b[0m\u001b[0;34m,\u001b[0m\u001b[0;34m\u001b[0m\u001b[0;34m\u001b[0m\u001b[0m\n",
      "\u001b[0;32m/Library/Frameworks/Python.framework/Versions/3.8/lib/python3.8/site-packages/matplotlib/__init__.py\u001b[0m in \u001b[0;36minner\u001b[0;34m(ax, data, *args, **kwargs)\u001b[0m\n\u001b[1;32m   1563\u001b[0m     \u001b[0;32mdef\u001b[0m \u001b[0minner\u001b[0m\u001b[0;34m(\u001b[0m\u001b[0max\u001b[0m\u001b[0;34m,\u001b[0m \u001b[0;34m*\u001b[0m\u001b[0margs\u001b[0m\u001b[0;34m,\u001b[0m \u001b[0mdata\u001b[0m\u001b[0;34m=\u001b[0m\u001b[0;32mNone\u001b[0m\u001b[0;34m,\u001b[0m \u001b[0;34m**\u001b[0m\u001b[0mkwargs\u001b[0m\u001b[0;34m)\u001b[0m\u001b[0;34m:\u001b[0m\u001b[0;34m\u001b[0m\u001b[0;34m\u001b[0m\u001b[0m\n\u001b[1;32m   1564\u001b[0m         \u001b[0;32mif\u001b[0m \u001b[0mdata\u001b[0m \u001b[0;32mis\u001b[0m \u001b[0;32mNone\u001b[0m\u001b[0;34m:\u001b[0m\u001b[0;34m\u001b[0m\u001b[0;34m\u001b[0m\u001b[0m\n\u001b[0;32m-> 1565\u001b[0;31m             \u001b[0;32mreturn\u001b[0m \u001b[0mfunc\u001b[0m\u001b[0;34m(\u001b[0m\u001b[0max\u001b[0m\u001b[0;34m,\u001b[0m \u001b[0;34m*\u001b[0m\u001b[0mmap\u001b[0m\u001b[0;34m(\u001b[0m\u001b[0msanitize_sequence\u001b[0m\u001b[0;34m,\u001b[0m \u001b[0margs\u001b[0m\u001b[0;34m)\u001b[0m\u001b[0;34m,\u001b[0m \u001b[0;34m**\u001b[0m\u001b[0mkwargs\u001b[0m\u001b[0;34m)\u001b[0m\u001b[0;34m\u001b[0m\u001b[0;34m\u001b[0m\u001b[0m\n\u001b[0m\u001b[1;32m   1566\u001b[0m \u001b[0;34m\u001b[0m\u001b[0m\n\u001b[1;32m   1567\u001b[0m         \u001b[0mbound\u001b[0m \u001b[0;34m=\u001b[0m \u001b[0mnew_sig\u001b[0m\u001b[0;34m.\u001b[0m\u001b[0mbind\u001b[0m\u001b[0;34m(\u001b[0m\u001b[0max\u001b[0m\u001b[0;34m,\u001b[0m \u001b[0;34m*\u001b[0m\u001b[0margs\u001b[0m\u001b[0;34m,\u001b[0m \u001b[0;34m**\u001b[0m\u001b[0mkwargs\u001b[0m\u001b[0;34m)\u001b[0m\u001b[0;34m\u001b[0m\u001b[0;34m\u001b[0m\u001b[0m\n",
      "\u001b[0;32m/Library/Frameworks/Python.framework/Versions/3.8/lib/python3.8/site-packages/matplotlib/cbook/deprecation.py\u001b[0m in \u001b[0;36mwrapper\u001b[0;34m(*args, **kwargs)\u001b[0m\n\u001b[1;32m    356\u001b[0m                 \u001b[0;34mf\"%(removal)s.  If any parameter follows {name!r}, they \"\u001b[0m\u001b[0;34m\u001b[0m\u001b[0;34m\u001b[0m\u001b[0m\n\u001b[1;32m    357\u001b[0m                 f\"should be pass as keyword, not positionally.\")\n\u001b[0;32m--> 358\u001b[0;31m         \u001b[0;32mreturn\u001b[0m \u001b[0mfunc\u001b[0m\u001b[0;34m(\u001b[0m\u001b[0;34m*\u001b[0m\u001b[0margs\u001b[0m\u001b[0;34m,\u001b[0m \u001b[0;34m**\u001b[0m\u001b[0mkwargs\u001b[0m\u001b[0;34m)\u001b[0m\u001b[0;34m\u001b[0m\u001b[0;34m\u001b[0m\u001b[0m\n\u001b[0m\u001b[1;32m    359\u001b[0m \u001b[0;34m\u001b[0m\u001b[0m\n\u001b[1;32m    360\u001b[0m     \u001b[0;32mreturn\u001b[0m \u001b[0mwrapper\u001b[0m\u001b[0;34m\u001b[0m\u001b[0;34m\u001b[0m\u001b[0m\n",
      "\u001b[0;32m/Library/Frameworks/Python.framework/Versions/3.8/lib/python3.8/site-packages/matplotlib/cbook/deprecation.py\u001b[0m in \u001b[0;36mwrapper\u001b[0;34m(*args, **kwargs)\u001b[0m\n\u001b[1;32m    356\u001b[0m                 \u001b[0;34mf\"%(removal)s.  If any parameter follows {name!r}, they \"\u001b[0m\u001b[0;34m\u001b[0m\u001b[0;34m\u001b[0m\u001b[0m\n\u001b[1;32m    357\u001b[0m                 f\"should be pass as keyword, not positionally.\")\n\u001b[0;32m--> 358\u001b[0;31m         \u001b[0;32mreturn\u001b[0m \u001b[0mfunc\u001b[0m\u001b[0;34m(\u001b[0m\u001b[0;34m*\u001b[0m\u001b[0margs\u001b[0m\u001b[0;34m,\u001b[0m \u001b[0;34m**\u001b[0m\u001b[0mkwargs\u001b[0m\u001b[0;34m)\u001b[0m\u001b[0;34m\u001b[0m\u001b[0;34m\u001b[0m\u001b[0m\n\u001b[0m\u001b[1;32m    359\u001b[0m \u001b[0;34m\u001b[0m\u001b[0m\n\u001b[1;32m    360\u001b[0m     \u001b[0;32mreturn\u001b[0m \u001b[0mwrapper\u001b[0m\u001b[0;34m\u001b[0m\u001b[0;34m\u001b[0m\u001b[0m\n",
      "\u001b[0;32m/Library/Frameworks/Python.framework/Versions/3.8/lib/python3.8/site-packages/matplotlib/axes/_axes.py\u001b[0m in \u001b[0;36mimshow\u001b[0;34m(self, X, cmap, norm, aspect, interpolation, alpha, vmin, vmax, origin, extent, shape, filternorm, filterrad, imlim, resample, url, **kwargs)\u001b[0m\n\u001b[1;32m   5613\u001b[0m                               resample=resample, **kwargs)\n\u001b[1;32m   5614\u001b[0m \u001b[0;34m\u001b[0m\u001b[0m\n\u001b[0;32m-> 5615\u001b[0;31m         \u001b[0mim\u001b[0m\u001b[0;34m.\u001b[0m\u001b[0mset_data\u001b[0m\u001b[0;34m(\u001b[0m\u001b[0mX\u001b[0m\u001b[0;34m)\u001b[0m\u001b[0;34m\u001b[0m\u001b[0;34m\u001b[0m\u001b[0m\n\u001b[0m\u001b[1;32m   5616\u001b[0m         \u001b[0mim\u001b[0m\u001b[0;34m.\u001b[0m\u001b[0mset_alpha\u001b[0m\u001b[0;34m(\u001b[0m\u001b[0malpha\u001b[0m\u001b[0;34m)\u001b[0m\u001b[0;34m\u001b[0m\u001b[0;34m\u001b[0m\u001b[0m\n\u001b[1;32m   5617\u001b[0m         \u001b[0;32mif\u001b[0m \u001b[0mim\u001b[0m\u001b[0;34m.\u001b[0m\u001b[0mget_clip_path\u001b[0m\u001b[0;34m(\u001b[0m\u001b[0;34m)\u001b[0m \u001b[0;32mis\u001b[0m \u001b[0;32mNone\u001b[0m\u001b[0;34m:\u001b[0m\u001b[0;34m\u001b[0m\u001b[0;34m\u001b[0m\u001b[0m\n",
      "\u001b[0;32m/Library/Frameworks/Python.framework/Versions/3.8/lib/python3.8/site-packages/matplotlib/image.py\u001b[0m in \u001b[0;36mset_data\u001b[0;34m(self, A)\u001b[0m\n\u001b[1;32m    696\u001b[0m         if not (self._A.ndim == 2\n\u001b[1;32m    697\u001b[0m                 or self._A.ndim == 3 and self._A.shape[-1] in [3, 4]):\n\u001b[0;32m--> 698\u001b[0;31m             raise TypeError(\"Invalid shape {} for image data\"\n\u001b[0m\u001b[1;32m    699\u001b[0m                             .format(self._A.shape))\n\u001b[1;32m    700\u001b[0m \u001b[0;34m\u001b[0m\u001b[0m\n",
      "\u001b[0;31mTypeError\u001b[0m: Invalid shape (64, 64, 1) for image data"
     ]
    },
    {
     "data": {
      "image/png": "[encoded data removed]",
      "text/plain": [
       "<Figure size 432x288 with 1 Axes>"
      ]
     },
     "metadata": {
      "needs_background": "light"
     },
     "output_type": "display_data"
    }
   ],
   "source": [
    "plt.imshow(traindata[0])"
   ]
  },
  {
   "cell_type": "code",
   "execution_count": 96,
   "metadata": {},
   "outputs": [],
   "source": [
    "trainx=trainx/255.0"
   ]
  },
  {
   "cell_type": "code",
   "execution_count": 112,
   "metadata": {},
   "outputs": [
    {
     "data": {
      "text/plain": [
       "(4346,)"
      ]
     },
     "execution_count": 112,
     "metadata": {},
     "output_type": "execute_result"
    }
   ],
   "source": [
    "trainx.shape"
   ]
  },
  {
   "cell_type": "code",
   "execution_count": 113,
   "metadata": {},
   "outputs": [
    {
     "data": {
      "text/plain": [
       "array([array([0.82745098, 0.84313725, 0.78039216, ..., 1.        , 1.        ,\n",
       "       1.        ]),\n",
       "       array([0.74901961, 0.78039216, 0.81568627, ..., 0.06666667, 0.24313725,\n",
       "       0.47843137]),\n",
       "       array([0.25882353, 0.16862745, 0.28235294, ..., 0.89019608, 0.54117647,\n",
       "       0.58431373]),\n",
       "       ...,\n",
       "       array([0.96862745, 0.96862745, 0.96862745, ..., 0.67058824, 0.65490196,\n",
       "       0.62745098]),\n",
       "       array([0.0627451 , 0.05098039, 0.03921569, ..., 0.5254902 , 0.51372549,\n",
       "       0.50980392]),\n",
       "       array([0.36078431, 0.38431373, 0.41960784, ..., 0.0627451 , 0.04313725,\n",
       "       0.        ])], dtype=object)"
      ]
     },
     "execution_count": 113,
     "metadata": {},
     "output_type": "execute_result"
    }
   ],
   "source": [
    "trainx"
   ]
  },
  {
   "cell_type": "code",
   "execution_count": 114,
   "metadata": {},
   "outputs": [
    {
     "data": {
      "text/plain": [
       "(4346, 64, 64)"
      ]
     },
     "execution_count": 114,
     "metadata": {},
     "output_type": "execute_result"
    }
   ],
   "source": [
    "traindata.shape"
   ]
  },
  {
   "cell_type": "code",
   "execution_count": 115,
   "metadata": {},
   "outputs": [
    {
     "data": {
      "text/plain": [
       "array([[[0.82745098, 0.84313725, 0.78039216, ..., 0.61960784,\n",
       "         0.72156863, 0.74509804],\n",
       "        [0.85882353, 0.83921569, 0.81176471, ..., 0.72156863,\n",
       "         0.8       , 0.82745098],\n",
       "        [0.85098039, 0.79607843, 0.79607843, ..., 0.8       ,\n",
       "         0.83137255, 0.8627451 ],\n",
       "        ...,\n",
       "        [1.        , 0.99215686, 0.97647059, ..., 0.99215686,\n",
       "         1.        , 1.        ],\n",
       "        [1.        , 0.99607843, 0.98823529, ..., 1.        ,\n",
       "         1.        , 1.        ],\n",
       "        [1.        , 1.        , 1.        , ..., 1.        ,\n",
       "         1.        , 1.        ]],\n",
       "\n",
       "       [[0.74901961, 0.78039216, 0.81568627, ..., 0.95686275,\n",
       "         1.        , 0.96862745],\n",
       "        [0.75294118, 0.76078431, 0.76078431, ..., 0.96862745,\n",
       "         0.99607843, 0.97647059],\n",
       "        [0.78039216, 0.8       , 0.80784314, ..., 0.98431373,\n",
       "         0.98431373, 0.98823529],\n",
       "        ...,\n",
       "        [0.68627451, 0.69019608, 0.68627451, ..., 0.66666667,\n",
       "         0.71764706, 0.7372549 ],\n",
       "        [0.67843137, 0.66666667, 0.65490196, ..., 0.30588235,\n",
       "         0.5254902 , 0.73333333],\n",
       "        [0.68627451, 0.65882353, 0.63137255, ..., 0.06666667,\n",
       "         0.24313725, 0.47843137]],\n",
       "\n",
       "       [[0.25882353, 0.16862745, 0.28235294, ..., 1.        ,\n",
       "         0.97647059, 0.96470588],\n",
       "        [0.25490196, 0.20392157, 0.28235294, ..., 0.98431373,\n",
       "         0.95686275, 0.96862745],\n",
       "        [0.28235294, 0.26666667, 0.2627451 , ..., 0.97647059,\n",
       "         0.94509804, 0.98823529],\n",
       "        ...,\n",
       "        [0.60392157, 0.54117647, 0.50980392, ..., 0.82745098,\n",
       "         0.98431373, 0.5372549 ],\n",
       "        [0.54509804, 0.54509804, 0.6       , ..., 0.98431373,\n",
       "         0.85098039, 0.38431373],\n",
       "        [0.45490196, 0.4745098 , 0.57647059, ..., 0.89019608,\n",
       "         0.54117647, 0.58431373]],\n",
       "\n",
       "       ...,\n",
       "\n",
       "       [[0.96862745, 0.96862745, 0.96862745, ..., 0.14901961,\n",
       "         0.10588235, 0.23921569],\n",
       "        [0.96862745, 0.96862745, 0.96862745, ..., 0.16078431,\n",
       "         0.11764706, 0.19215686],\n",
       "        [0.96862745, 0.96862745, 0.96862745, ..., 0.16078431,\n",
       "         0.10980392, 0.10980392],\n",
       "        ...,\n",
       "        [0.96862745, 0.96862745, 0.96862745, ..., 0.6627451 ,\n",
       "         0.65490196, 0.64313725],\n",
       "        [0.96862745, 0.96862745, 0.96862745, ..., 0.66666667,\n",
       "         0.65490196, 0.63529412],\n",
       "        [0.96862745, 0.96862745, 0.96862745, ..., 0.67058824,\n",
       "         0.65490196, 0.62745098]],\n",
       "\n",
       "       [[0.0627451 , 0.05098039, 0.03921569, ..., 0.1254902 ,\n",
       "         0.1254902 , 0.1254902 ],\n",
       "        [0.06666667, 0.05098039, 0.03529412, ..., 0.10196078,\n",
       "         0.11372549, 0.11764706],\n",
       "        [0.07058824, 0.05098039, 0.03137255, ..., 0.06666667,\n",
       "         0.09019608, 0.10196078],\n",
       "        ...,\n",
       "        [0.09411765, 0.09411765, 0.09411765, ..., 0.47058824,\n",
       "         0.4627451 , 0.4627451 ],\n",
       "        [0.09411765, 0.09411765, 0.09411765, ..., 0.51372549,\n",
       "         0.50196078, 0.49803922],\n",
       "        [0.09411765, 0.09411765, 0.09411765, ..., 0.5254902 ,\n",
       "         0.51372549, 0.50980392]],\n",
       "\n",
       "       [[0.36078431, 0.38431373, 0.41960784, ..., 0.35294118,\n",
       "         0.34509804, 0.32156863],\n",
       "        [0.36078431, 0.37647059, 0.40784314, ..., 0.35686275,\n",
       "         0.35686275, 0.33333333],\n",
       "        [0.36470588, 0.36470588, 0.38823529, ..., 0.35686275,\n",
       "         0.36078431, 0.34117647],\n",
       "        ...,\n",
       "        [0.39607843, 0.38039216, 0.37647059, ..., 0.05490196,\n",
       "         0.05098039, 0.04313725],\n",
       "        [0.38039216, 0.38039216, 0.40392157, ..., 0.05882353,\n",
       "         0.04705882, 0.01176471],\n",
       "        [0.36862745, 0.38823529, 0.42745098, ..., 0.0627451 ,\n",
       "         0.04313725, 0.        ]]])"
      ]
     },
     "execution_count": 115,
     "metadata": {},
     "output_type": "execute_result"
    }
   ],
   "source": [
    "traindata\n"
   ]
  },
  {
   "cell_type": "code",
   "execution_count": 41,
   "metadata": {},
   "outputs": [],
   "source": [
    "traindata=traindata.reshape(len(traindata),64,64,1)"
   ]
  },
  {
   "cell_type": "code",
   "execution_count": 98,
   "metadata": {},
   "outputs": [
    {
     "data": {
      "text/plain": [
       "numpy.ndarray"
      ]
     },
     "execution_count": 98,
     "metadata": {},
     "output_type": "execute_result"
    }
   ],
   "source": [
    "type(trainx)"
   ]
  },
  {
   "cell_type": "code",
   "execution_count": 102,
   "metadata": {},
   "outputs": [],
   "source": [
    "trainy=trainy.astype(\"uint8\")"
   ]
  },
  {
   "cell_type": "code",
   "execution_count": 103,
   "metadata": {},
   "outputs": [
    {
     "data": {
      "text/plain": [
       "array([4, 2, 1, ..., 1, 3, 5], dtype=uint8)"
      ]
     },
     "execution_count": 103,
     "metadata": {},
     "output_type": "execute_result"
    }
   ],
   "source": [
    "trainy"
   ]
  },
  {
   "cell_type": "code",
   "execution_count": 118,
   "metadata": {},
   "outputs": [
    {
     "data": {
      "text/plain": [
       "(4346,)"
      ]
     },
     "execution_count": 118,
     "metadata": {},
     "output_type": "execute_result"
    }
   ],
   "source": [
    "trainy.shape"
   ]
  },
  {
   "cell_type": "code",
   "execution_count": 120,
   "metadata": {},
   "outputs": [
    {
     "data": {
      "text/plain": [
       "(4346, 64, 64, 1)"
      ]
     },
     "execution_count": 120,
     "metadata": {},
     "output_type": "execute_result"
    }
   ],
   "source": [
    "traindata.shape"
   ]
  },
  {
   "cell_type": "code",
   "execution_count": 141,
   "metadata": {},
   "outputs": [
    {
     "data": {
      "text/plain": [
       "array([[[0.36078431],\n",
       "        [0.38431373],\n",
       "        [0.41960784],\n",
       "        ...,\n",
       "        [0.35294118],\n",
       "        [0.34509804],\n",
       "        [0.32156863]],\n",
       "\n",
       "       [[0.36078431],\n",
       "        [0.37647059],\n",
       "        [0.40784314],\n",
       "        ...,\n",
       "        [0.35686275],\n",
       "        [0.35686275],\n",
       "        [0.33333333]],\n",
       "\n",
       "       [[0.36470588],\n",
       "        [0.36470588],\n",
       "        [0.38823529],\n",
       "        ...,\n",
       "        [0.35686275],\n",
       "        [0.36078431],\n",
       "        [0.34117647]],\n",
       "\n",
       "       ...,\n",
       "\n",
       "       [[0.39607843],\n",
       "        [0.38039216],\n",
       "        [0.37647059],\n",
       "        ...,\n",
       "        [0.05490196],\n",
       "        [0.05098039],\n",
       "        [0.04313725]],\n",
       "\n",
       "       [[0.38039216],\n",
       "        [0.38039216],\n",
       "        [0.40392157],\n",
       "        ...,\n",
       "        [0.05882353],\n",
       "        [0.04705882],\n",
       "        [0.01176471]],\n",
       "\n",
       "       [[0.36862745],\n",
       "        [0.38823529],\n",
       "        [0.42745098],\n",
       "        ...,\n",
       "        [0.0627451 ],\n",
       "        [0.04313725],\n",
       "        [0.        ]]])"
      ]
     },
     "execution_count": 141,
     "metadata": {},
     "output_type": "execute_result"
    }
   ],
   "source": [
    "traindata[-1]"
   ]
  },
  {
   "cell_type": "code",
   "execution_count": 136,
   "metadata": {},
   "outputs": [],
   "source": [
    "model.save('model.h5')"
   ]
  },
  {
   "cell_type": "code",
   "execution_count": 148,
   "metadata": {},
   "outputs": [
    {
     "ename": "ValueError",
     "evalue": "in user code:\n\n    /Library/Frameworks/Python.framework/Versions/3.8/lib/python3.8/site-packages/tensorflow/python/keras/engine/training.py:1478 predict_function  *\n        return step_function(self, iterator)\n    /Library/Frameworks/Python.framework/Versions/3.8/lib/python3.8/site-packages/tensorflow/python/keras/engine/training.py:1468 step_function  **\n        outputs = model.distribute_strategy.run(run_step, args=(data,))\n    /Library/Frameworks/Python.framework/Versions/3.8/lib/python3.8/site-packages/tensorflow/python/distribute/distribute_lib.py:1259 run\n        return self._extended.call_for_each_replica(fn, args=args, kwargs=kwargs)\n    /Library/Frameworks/Python.framework/Versions/3.8/lib/python3.8/site-packages/tensorflow/python/distribute/distribute_lib.py:2730 call_for_each_replica\n        return self._call_for_each_replica(fn, args, kwargs)\n    /Library/Frameworks/Python.framework/Versions/3.8/lib/python3.8/site-packages/tensorflow/python/distribute/distribute_lib.py:3417 _call_for_each_replica\n        return fn(*args, **kwargs)\n    /Library/Frameworks/Python.framework/Versions/3.8/lib/python3.8/site-packages/tensorflow/python/keras/engine/training.py:1461 run_step  **\n        outputs = model.predict_step(data)\n    /Library/Frameworks/Python.framework/Versions/3.8/lib/python3.8/site-packages/tensorflow/python/keras/engine/training.py:1434 predict_step\n        return self(x, training=False)\n    /Library/Frameworks/Python.framework/Versions/3.8/lib/python3.8/site-packages/tensorflow/python/keras/engine/base_layer.py:998 __call__\n        input_spec.assert_input_compatibility(self.input_spec, inputs, self.name)\n    /Library/Frameworks/Python.framework/Versions/3.8/lib/python3.8/site-packages/tensorflow/python/keras/engine/input_spec.py:234 assert_input_compatibility\n        raise ValueError('Input ' + str(input_index) + ' of layer ' +\n\n    ValueError: Input 0 of layer sequential_2 is incompatible with the layer: : expected min_ndim=4, found ndim=3. Full shape received: (32, 64, 1)\n",
     "output_type": "error",
     "traceback": [
      "\u001b[0;31m---------------------------------------------------------------------------\u001b[0m",
      "\u001b[0;31mValueError\u001b[0m                                Traceback (most recent call last)",
      "\u001b[0;32m<ipython-input-148-0c50b23b9eaa>\u001b[0m in \u001b[0;36m<module>\u001b[0;34m\u001b[0m\n\u001b[0;32m----> 1\u001b[0;31m \u001b[0mmodel\u001b[0m\u001b[0;34m.\u001b[0m\u001b[0mpredict\u001b[0m\u001b[0;34m(\u001b[0m\u001b[0mtraindata\u001b[0m\u001b[0;34m[\u001b[0m\u001b[0;34m-\u001b[0m\u001b[0;36m1\u001b[0m\u001b[0;34m]\u001b[0m\u001b[0;34m)\u001b[0m\u001b[0;34m\u001b[0m\u001b[0;34m\u001b[0m\u001b[0m\n\u001b[0m",
      "\u001b[0;32m/Library/Frameworks/Python.framework/Versions/3.8/lib/python3.8/site-packages/tensorflow/python/keras/engine/training.py\u001b[0m in \u001b[0;36mpredict\u001b[0;34m(self, x, batch_size, verbose, steps, callbacks, max_queue_size, workers, use_multiprocessing)\u001b[0m\n\u001b[1;32m   1627\u001b[0m           \u001b[0;32mfor\u001b[0m \u001b[0mstep\u001b[0m \u001b[0;32min\u001b[0m \u001b[0mdata_handler\u001b[0m\u001b[0;34m.\u001b[0m\u001b[0msteps\u001b[0m\u001b[0;34m(\u001b[0m\u001b[0;34m)\u001b[0m\u001b[0;34m:\u001b[0m\u001b[0;34m\u001b[0m\u001b[0;34m\u001b[0m\u001b[0m\n\u001b[1;32m   1628\u001b[0m             \u001b[0mcallbacks\u001b[0m\u001b[0;34m.\u001b[0m\u001b[0mon_predict_batch_begin\u001b[0m\u001b[0;34m(\u001b[0m\u001b[0mstep\u001b[0m\u001b[0;34m)\u001b[0m\u001b[0;34m\u001b[0m\u001b[0;34m\u001b[0m\u001b[0m\n\u001b[0;32m-> 1629\u001b[0;31m             \u001b[0mtmp_batch_outputs\u001b[0m \u001b[0;34m=\u001b[0m \u001b[0mself\u001b[0m\u001b[0;34m.\u001b[0m\u001b[0mpredict_function\u001b[0m\u001b[0;34m(\u001b[0m\u001b[0miterator\u001b[0m\u001b[0;34m)\u001b[0m\u001b[0;34m\u001b[0m\u001b[0;34m\u001b[0m\u001b[0m\n\u001b[0m\u001b[1;32m   1630\u001b[0m             \u001b[0;32mif\u001b[0m \u001b[0mdata_handler\u001b[0m\u001b[0;34m.\u001b[0m\u001b[0mshould_sync\u001b[0m\u001b[0;34m:\u001b[0m\u001b[0;34m\u001b[0m\u001b[0;34m\u001b[0m\u001b[0m\n\u001b[1;32m   1631\u001b[0m               \u001b[0mcontext\u001b[0m\u001b[0;34m.\u001b[0m\u001b[0masync_wait\u001b[0m\u001b[0;34m(\u001b[0m\u001b[0;34m)\u001b[0m\u001b[0;34m\u001b[0m\u001b[0;34m\u001b[0m\u001b[0m\n",
      "\u001b[0;32m/Library/Frameworks/Python.framework/Versions/3.8/lib/python3.8/site-packages/tensorflow/python/eager/def_function.py\u001b[0m in \u001b[0;36m__call__\u001b[0;34m(self, *args, **kwds)\u001b[0m\n\u001b[1;32m    826\u001b[0m     \u001b[0mtracing_count\u001b[0m \u001b[0;34m=\u001b[0m \u001b[0mself\u001b[0m\u001b[0;34m.\u001b[0m\u001b[0mexperimental_get_tracing_count\u001b[0m\u001b[0;34m(\u001b[0m\u001b[0;34m)\u001b[0m\u001b[0;34m\u001b[0m\u001b[0;34m\u001b[0m\u001b[0m\n\u001b[1;32m    827\u001b[0m     \u001b[0;32mwith\u001b[0m \u001b[0mtrace\u001b[0m\u001b[0;34m.\u001b[0m\u001b[0mTrace\u001b[0m\u001b[0;34m(\u001b[0m\u001b[0mself\u001b[0m\u001b[0;34m.\u001b[0m\u001b[0m_name\u001b[0m\u001b[0;34m)\u001b[0m \u001b[0;32mas\u001b[0m \u001b[0mtm\u001b[0m\u001b[0;34m:\u001b[0m\u001b[0;34m\u001b[0m\u001b[0;34m\u001b[0m\u001b[0m\n\u001b[0;32m--> 828\u001b[0;31m       \u001b[0mresult\u001b[0m \u001b[0;34m=\u001b[0m \u001b[0mself\u001b[0m\u001b[0;34m.\u001b[0m\u001b[0m_call\u001b[0m\u001b[0;34m(\u001b[0m\u001b[0;34m*\u001b[0m\u001b[0margs\u001b[0m\u001b[0;34m,\u001b[0m \u001b[0;34m**\u001b[0m\u001b[0mkwds\u001b[0m\u001b[0;34m)\u001b[0m\u001b[0;34m\u001b[0m\u001b[0;34m\u001b[0m\u001b[0m\n\u001b[0m\u001b[1;32m    829\u001b[0m       \u001b[0mcompiler\u001b[0m \u001b[0;34m=\u001b[0m \u001b[0;34m\"xla\"\u001b[0m \u001b[0;32mif\u001b[0m \u001b[0mself\u001b[0m\u001b[0;34m.\u001b[0m\u001b[0m_experimental_compile\u001b[0m \u001b[0;32melse\u001b[0m \u001b[0;34m\"nonXla\"\u001b[0m\u001b[0;34m\u001b[0m\u001b[0;34m\u001b[0m\u001b[0m\n\u001b[1;32m    830\u001b[0m       \u001b[0mnew_tracing_count\u001b[0m \u001b[0;34m=\u001b[0m \u001b[0mself\u001b[0m\u001b[0;34m.\u001b[0m\u001b[0mexperimental_get_tracing_count\u001b[0m\u001b[0;34m(\u001b[0m\u001b[0;34m)\u001b[0m\u001b[0;34m\u001b[0m\u001b[0;34m\u001b[0m\u001b[0m\n",
      "\u001b[0;32m/Library/Frameworks/Python.framework/Versions/3.8/lib/python3.8/site-packages/tensorflow/python/eager/def_function.py\u001b[0m in \u001b[0;36m_call\u001b[0;34m(self, *args, **kwds)\u001b[0m\n\u001b[1;32m    860\u001b[0m       \u001b[0;31m# In this case we have not created variables on the first call. So we can\u001b[0m\u001b[0;34m\u001b[0m\u001b[0;34m\u001b[0m\u001b[0;34m\u001b[0m\u001b[0m\n\u001b[1;32m    861\u001b[0m       \u001b[0;31m# run the first trace but we should fail if variables are created.\u001b[0m\u001b[0;34m\u001b[0m\u001b[0;34m\u001b[0m\u001b[0;34m\u001b[0m\u001b[0m\n\u001b[0;32m--> 862\u001b[0;31m       \u001b[0mresults\u001b[0m \u001b[0;34m=\u001b[0m \u001b[0mself\u001b[0m\u001b[0;34m.\u001b[0m\u001b[0m_stateful_fn\u001b[0m\u001b[0;34m(\u001b[0m\u001b[0;34m*\u001b[0m\u001b[0margs\u001b[0m\u001b[0;34m,\u001b[0m \u001b[0;34m**\u001b[0m\u001b[0mkwds\u001b[0m\u001b[0;34m)\u001b[0m\u001b[0;34m\u001b[0m\u001b[0;34m\u001b[0m\u001b[0m\n\u001b[0m\u001b[1;32m    863\u001b[0m       \u001b[0;32mif\u001b[0m \u001b[0mself\u001b[0m\u001b[0;34m.\u001b[0m\u001b[0m_created_variables\u001b[0m\u001b[0;34m:\u001b[0m\u001b[0;34m\u001b[0m\u001b[0;34m\u001b[0m\u001b[0m\n\u001b[1;32m    864\u001b[0m         raise ValueError(\"Creating variables on a non-first call to a function\"\n",
      "\u001b[0;32m/Library/Frameworks/Python.framework/Versions/3.8/lib/python3.8/site-packages/tensorflow/python/eager/function.py\u001b[0m in \u001b[0;36m__call__\u001b[0;34m(self, *args, **kwargs)\u001b[0m\n\u001b[1;32m   2939\u001b[0m     \u001b[0;32mwith\u001b[0m \u001b[0mself\u001b[0m\u001b[0;34m.\u001b[0m\u001b[0m_lock\u001b[0m\u001b[0;34m:\u001b[0m\u001b[0;34m\u001b[0m\u001b[0;34m\u001b[0m\u001b[0m\n\u001b[1;32m   2940\u001b[0m       (graph_function,\n\u001b[0;32m-> 2941\u001b[0;31m        filtered_flat_args) = self._maybe_define_function(args, kwargs)\n\u001b[0m\u001b[1;32m   2942\u001b[0m     return graph_function._call_flat(\n\u001b[1;32m   2943\u001b[0m         filtered_flat_args, captured_inputs=graph_function.captured_inputs)  # pylint: disable=protected-access\n",
      "\u001b[0;32m/Library/Frameworks/Python.framework/Versions/3.8/lib/python3.8/site-packages/tensorflow/python/eager/function.py\u001b[0m in \u001b[0;36m_maybe_define_function\u001b[0;34m(self, args, kwargs)\u001b[0m\n\u001b[1;32m   3355\u001b[0m               \u001b[0mself\u001b[0m\u001b[0;34m.\u001b[0m\u001b[0minput_signature\u001b[0m \u001b[0;32mis\u001b[0m \u001b[0;32mNone\u001b[0m \u001b[0;32mand\u001b[0m\u001b[0;34m\u001b[0m\u001b[0;34m\u001b[0m\u001b[0m\n\u001b[1;32m   3356\u001b[0m               call_context_key in self._function_cache.missed):\n\u001b[0;32m-> 3357\u001b[0;31m             return self._define_function_with_shape_relaxation(\n\u001b[0m\u001b[1;32m   3358\u001b[0m                 args, kwargs, flat_args, filtered_flat_args, cache_key_context)\n\u001b[1;32m   3359\u001b[0m \u001b[0;34m\u001b[0m\u001b[0m\n",
      "\u001b[0;32m/Library/Frameworks/Python.framework/Versions/3.8/lib/python3.8/site-packages/tensorflow/python/eager/function.py\u001b[0m in \u001b[0;36m_define_function_with_shape_relaxation\u001b[0;34m(self, args, kwargs, flat_args, filtered_flat_args, cache_key_context)\u001b[0m\n\u001b[1;32m   3277\u001b[0m           expand_composites=True)\n\u001b[1;32m   3278\u001b[0m \u001b[0;34m\u001b[0m\u001b[0m\n\u001b[0;32m-> 3279\u001b[0;31m     graph_function = self._create_graph_function(\n\u001b[0m\u001b[1;32m   3280\u001b[0m         args, kwargs, override_flat_arg_shapes=relaxed_arg_shapes)\n\u001b[1;32m   3281\u001b[0m     \u001b[0mself\u001b[0m\u001b[0;34m.\u001b[0m\u001b[0m_function_cache\u001b[0m\u001b[0;34m.\u001b[0m\u001b[0marg_relaxed\u001b[0m\u001b[0;34m[\u001b[0m\u001b[0mrank_only_cache_key\u001b[0m\u001b[0;34m]\u001b[0m \u001b[0;34m=\u001b[0m \u001b[0mgraph_function\u001b[0m\u001b[0;34m\u001b[0m\u001b[0;34m\u001b[0m\u001b[0m\n",
      "\u001b[0;32m/Library/Frameworks/Python.framework/Versions/3.8/lib/python3.8/site-packages/tensorflow/python/eager/function.py\u001b[0m in \u001b[0;36m_create_graph_function\u001b[0;34m(self, args, kwargs, override_flat_arg_shapes)\u001b[0m\n\u001b[1;32m   3194\u001b[0m     \u001b[0marg_names\u001b[0m \u001b[0;34m=\u001b[0m \u001b[0mbase_arg_names\u001b[0m \u001b[0;34m+\u001b[0m \u001b[0mmissing_arg_names\u001b[0m\u001b[0;34m\u001b[0m\u001b[0;34m\u001b[0m\u001b[0m\n\u001b[1;32m   3195\u001b[0m     graph_function = ConcreteFunction(\n\u001b[0;32m-> 3196\u001b[0;31m         func_graph_module.func_graph_from_py_func(\n\u001b[0m\u001b[1;32m   3197\u001b[0m             \u001b[0mself\u001b[0m\u001b[0;34m.\u001b[0m\u001b[0m_name\u001b[0m\u001b[0;34m,\u001b[0m\u001b[0;34m\u001b[0m\u001b[0;34m\u001b[0m\u001b[0m\n\u001b[1;32m   3198\u001b[0m             \u001b[0mself\u001b[0m\u001b[0;34m.\u001b[0m\u001b[0m_python_function\u001b[0m\u001b[0;34m,\u001b[0m\u001b[0;34m\u001b[0m\u001b[0;34m\u001b[0m\u001b[0m\n",
      "\u001b[0;32m/Library/Frameworks/Python.framework/Versions/3.8/lib/python3.8/site-packages/tensorflow/python/framework/func_graph.py\u001b[0m in \u001b[0;36mfunc_graph_from_py_func\u001b[0;34m(name, python_func, args, kwargs, signature, func_graph, autograph, autograph_options, add_control_dependencies, arg_names, op_return_value, collections, capture_by_value, override_flat_arg_shapes)\u001b[0m\n\u001b[1;32m    988\u001b[0m         \u001b[0m_\u001b[0m\u001b[0;34m,\u001b[0m \u001b[0moriginal_func\u001b[0m \u001b[0;34m=\u001b[0m \u001b[0mtf_decorator\u001b[0m\u001b[0;34m.\u001b[0m\u001b[0munwrap\u001b[0m\u001b[0;34m(\u001b[0m\u001b[0mpython_func\u001b[0m\u001b[0;34m)\u001b[0m\u001b[0;34m\u001b[0m\u001b[0;34m\u001b[0m\u001b[0m\n\u001b[1;32m    989\u001b[0m \u001b[0;34m\u001b[0m\u001b[0m\n\u001b[0;32m--> 990\u001b[0;31m       \u001b[0mfunc_outputs\u001b[0m \u001b[0;34m=\u001b[0m \u001b[0mpython_func\u001b[0m\u001b[0;34m(\u001b[0m\u001b[0;34m*\u001b[0m\u001b[0mfunc_args\u001b[0m\u001b[0;34m,\u001b[0m \u001b[0;34m**\u001b[0m\u001b[0mfunc_kwargs\u001b[0m\u001b[0;34m)\u001b[0m\u001b[0;34m\u001b[0m\u001b[0;34m\u001b[0m\u001b[0m\n\u001b[0m\u001b[1;32m    991\u001b[0m \u001b[0;34m\u001b[0m\u001b[0m\n\u001b[1;32m    992\u001b[0m       \u001b[0;31m# invariant: `func_outputs` contains only Tensors, CompositeTensors,\u001b[0m\u001b[0;34m\u001b[0m\u001b[0;34m\u001b[0m\u001b[0;34m\u001b[0m\u001b[0m\n",
      "\u001b[0;32m/Library/Frameworks/Python.framework/Versions/3.8/lib/python3.8/site-packages/tensorflow/python/eager/def_function.py\u001b[0m in \u001b[0;36mwrapped_fn\u001b[0;34m(*args, **kwds)\u001b[0m\n\u001b[1;32m    632\u001b[0m             \u001b[0mxla_context\u001b[0m\u001b[0;34m.\u001b[0m\u001b[0mExit\u001b[0m\u001b[0;34m(\u001b[0m\u001b[0;34m)\u001b[0m\u001b[0;34m\u001b[0m\u001b[0;34m\u001b[0m\u001b[0m\n\u001b[1;32m    633\u001b[0m         \u001b[0;32melse\u001b[0m\u001b[0;34m:\u001b[0m\u001b[0;34m\u001b[0m\u001b[0;34m\u001b[0m\u001b[0m\n\u001b[0;32m--> 634\u001b[0;31m           \u001b[0mout\u001b[0m \u001b[0;34m=\u001b[0m \u001b[0mweak_wrapped_fn\u001b[0m\u001b[0;34m(\u001b[0m\u001b[0;34m)\u001b[0m\u001b[0;34m.\u001b[0m\u001b[0m__wrapped__\u001b[0m\u001b[0;34m(\u001b[0m\u001b[0;34m*\u001b[0m\u001b[0margs\u001b[0m\u001b[0;34m,\u001b[0m \u001b[0;34m**\u001b[0m\u001b[0mkwds\u001b[0m\u001b[0;34m)\u001b[0m\u001b[0;34m\u001b[0m\u001b[0;34m\u001b[0m\u001b[0m\n\u001b[0m\u001b[1;32m    635\u001b[0m         \u001b[0;32mreturn\u001b[0m \u001b[0mout\u001b[0m\u001b[0;34m\u001b[0m\u001b[0;34m\u001b[0m\u001b[0m\n\u001b[1;32m    636\u001b[0m \u001b[0;34m\u001b[0m\u001b[0m\n",
      "\u001b[0;32m/Library/Frameworks/Python.framework/Versions/3.8/lib/python3.8/site-packages/tensorflow/python/framework/func_graph.py\u001b[0m in \u001b[0;36mwrapper\u001b[0;34m(*args, **kwargs)\u001b[0m\n\u001b[1;32m    975\u001b[0m           \u001b[0;32mexcept\u001b[0m \u001b[0mException\u001b[0m \u001b[0;32mas\u001b[0m \u001b[0me\u001b[0m\u001b[0;34m:\u001b[0m  \u001b[0;31m# pylint:disable=broad-except\u001b[0m\u001b[0;34m\u001b[0m\u001b[0;34m\u001b[0m\u001b[0m\n\u001b[1;32m    976\u001b[0m             \u001b[0;32mif\u001b[0m \u001b[0mhasattr\u001b[0m\u001b[0;34m(\u001b[0m\u001b[0me\u001b[0m\u001b[0;34m,\u001b[0m \u001b[0;34m\"ag_error_metadata\"\u001b[0m\u001b[0;34m)\u001b[0m\u001b[0;34m:\u001b[0m\u001b[0;34m\u001b[0m\u001b[0;34m\u001b[0m\u001b[0m\n\u001b[0;32m--> 977\u001b[0;31m               \u001b[0;32mraise\u001b[0m \u001b[0me\u001b[0m\u001b[0;34m.\u001b[0m\u001b[0mag_error_metadata\u001b[0m\u001b[0;34m.\u001b[0m\u001b[0mto_exception\u001b[0m\u001b[0;34m(\u001b[0m\u001b[0me\u001b[0m\u001b[0;34m)\u001b[0m\u001b[0;34m\u001b[0m\u001b[0;34m\u001b[0m\u001b[0m\n\u001b[0m\u001b[1;32m    978\u001b[0m             \u001b[0;32melse\u001b[0m\u001b[0;34m:\u001b[0m\u001b[0;34m\u001b[0m\u001b[0;34m\u001b[0m\u001b[0m\n\u001b[1;32m    979\u001b[0m               \u001b[0;32mraise\u001b[0m\u001b[0;34m\u001b[0m\u001b[0;34m\u001b[0m\u001b[0m\n",
      "\u001b[0;31mValueError\u001b[0m: in user code:\n\n    /Library/Frameworks/Python.framework/Versions/3.8/lib/python3.8/site-packages/tensorflow/python/keras/engine/training.py:1478 predict_function  *\n        return step_function(self, iterator)\n    /Library/Frameworks/Python.framework/Versions/3.8/lib/python3.8/site-packages/tensorflow/python/keras/engine/training.py:1468 step_function  **\n        outputs = model.distribute_strategy.run(run_step, args=(data,))\n    /Library/Frameworks/Python.framework/Versions/3.8/lib/python3.8/site-packages/tensorflow/python/distribute/distribute_lib.py:1259 run\n        return self._extended.call_for_each_replica(fn, args=args, kwargs=kwargs)\n    /Library/Frameworks/Python.framework/Versions/3.8/lib/python3.8/site-packages/tensorflow/python/distribute/distribute_lib.py:2730 call_for_each_replica\n        return self._call_for_each_replica(fn, args, kwargs)\n    /Library/Frameworks/Python.framework/Versions/3.8/lib/python3.8/site-packages/tensorflow/python/distribute/distribute_lib.py:3417 _call_for_each_replica\n        return fn(*args, **kwargs)\n    /Library/Frameworks/Python.framework/Versions/3.8/lib/python3.8/site-packages/tensorflow/python/keras/engine/training.py:1461 run_step  **\n        outputs = model.predict_step(data)\n    /Library/Frameworks/Python.framework/Versions/3.8/lib/python3.8/site-packages/tensorflow/python/keras/engine/training.py:1434 predict_step\n        return self(x, training=False)\n    /Library/Frameworks/Python.framework/Versions/3.8/lib/python3.8/site-packages/tensorflow/python/keras/engine/base_layer.py:998 __call__\n        input_spec.assert_input_compatibility(self.input_spec, inputs, self.name)\n    /Library/Frameworks/Python.framework/Versions/3.8/lib/python3.8/site-packages/tensorflow/python/keras/engine/input_spec.py:234 assert_input_compatibility\n        raise ValueError('Input ' + str(input_index) + ' of layer ' +\n\n    ValueError: Input 0 of layer sequential_2 is incompatible with the layer: : expected min_ndim=4, found ndim=3. Full shape received: (32, 64, 1)\n"
     ]
    }
   ],
   "source": [
    "model.predict(traindata[-1])"
   ]
  },
  {
   "cell_type": "code",
   "execution_count": 147,
   "metadata": {},
   "outputs": [
    {
     "data": {
      "text/plain": [
       "(64, 64, 1)"
      ]
     },
     "execution_count": 147,
     "metadata": {},
     "output_type": "execute_result"
    }
   ],
   "source": [
    "traindata[-1].shape"
   ]
  },
  {
   "cell_type": "code",
   "execution_count": 37,
   "metadata": {},
   "outputs": [
    {
     "data": {
      "text/plain": [
       "array([array([34, 38, 31, ..., 33, 32, 32], dtype=uint8),\n",
       "       array([36, 32, 25, ..., 12, 12, 12], dtype=uint8),\n",
       "       array([ 43,  34,  40, ..., 208, 213, 207], dtype=uint8), ...,\n",
       "       array([64, 57, 43, ..., 13, 16, 20], dtype=uint8),\n",
       "       array([ 0,  5,  9, ..., 22, 21, 13], dtype=uint8),\n",
       "       array([162, 161, 165, ..., 225, 226, 224], dtype=uint8)],\n",
       "      dtype=object)"
      ]
     },
     "execution_count": 37,
     "metadata": {},
     "output_type": "execute_result"
    }
   ],
   "source": [
    "trainx"
   ]
  },
  {
   "cell_type": "code",
   "execution_count": 42,
   "metadata": {},
   "outputs": [
    {
     "data": {
      "text/plain": [
       "(64, 64, 1)"
      ]
     },
     "execution_count": 42,
     "metadata": {},
     "output_type": "execute_result"
    }
   ],
   "source": [
    "traindata[0].shape"
   ]
  },
  {
   "cell_type": "code",
   "execution_count": null,
   "metadata": {},
   "outputs": [],
   "source": []
  },
  {
   "cell_type": "code",
   "execution_count": 52,
   "metadata": {},
   "outputs": [],
   "source": [
    "from keras.models import load_model"
   ]
  },
  {
   "cell_type": "code",
   "execution_count": 53,
   "metadata": {},
   "outputs": [],
   "source": [
    "model_1 = load_model('model.h5')"
   ]
  },
  {
   "cell_type": "code",
   "execution_count": 54,
   "metadata": {},
   "outputs": [
    {
     "name": "stdout",
     "output_type": "stream",
     "text": [
      "Model: \"sequential_2\"\n",
      "_________________________________________________________________\n",
      "Layer (type)                 Output Shape              Param #   \n",
      "=================================================================\n",
      "conv2d_8 (Conv2D)            (None, 64, 64, 64)        1664      \n",
      "_________________________________________________________________\n",
      "conv2d_9 (Conv2D)            (None, 64, 64, 64)        102464    \n",
      "_________________________________________________________________\n",
      "batch_normalization_3 (Batch (None, 64, 64, 64)        256       \n",
      "_________________________________________________________________\n",
      "activation_2 (Activation)    (None, 64, 64, 64)        0         \n",
      "_________________________________________________________________\n",
      "max_pooling2d_3 (MaxPooling2 (None, 32, 32, 64)        0         \n",
      "_________________________________________________________________\n",
      "conv2d_10 (Conv2D)           (None, 32, 32, 128)       204928    \n",
      "_________________________________________________________________\n",
      "conv2d_11 (Conv2D)           (None, 32, 32, 128)       409728    \n",
      "_________________________________________________________________\n",
      "batch_normalization_4 (Batch (None, 32, 32, 128)       512       \n",
      "_________________________________________________________________\n",
      "activation_3 (Activation)    (None, 32, 32, 128)       0         \n",
      "_________________________________________________________________\n",
      "max_pooling2d_4 (MaxPooling2 (None, 16, 16, 128)       0         \n",
      "_________________________________________________________________\n",
      "conv2d_12 (Conv2D)           (None, 16, 16, 256)       295168    \n",
      "_________________________________________________________________\n",
      "conv2d_13 (Conv2D)           (None, 16, 16, 256)       590080    \n",
      "_________________________________________________________________\n",
      "batch_normalization_5 (Batch (None, 16, 16, 256)       1024      \n",
      "_________________________________________________________________\n",
      "max_pooling2d_5 (MaxPooling2 (None, 8, 8, 256)         0         \n",
      "_________________________________________________________________\n",
      "flatten_2 (Flatten)          (None, 16384)             0         \n",
      "_________________________________________________________________\n",
      "dense_3 (Dense)              (None, 6)                 98310     \n",
      "=================================================================\n",
      "Total params: 1,704,134\n",
      "Trainable params: 1,703,238\n",
      "Non-trainable params: 896\n",
      "_________________________________________________________________\n"
     ]
    }
   ],
   "source": [
    "model_1.summary()"
   ]
  },
  {
   "cell_type": "code",
   "execution_count": null,
   "metadata": {},
   "outputs": [],
   "source": []
  }
 ],
 "metadata": {
  "kernelspec": {
   "display_name": "Python 3",
   "language": "python",
   "name": "python3"
  },
  "language_info": {
   "codemirror_mode": {
    "name": "ipython",
    "version": 3
   },
   "file_extension": ".py",
   "mimetype": "text/x-python",
   "name": "python",
   "nbconvert_exporter": "python",
   "pygments_lexer": "ipython3",
   "version": "3.8.2"
  }
 },
 "nbformat": 4,
 "nbformat_minor": 4
}
