{
 "cells": [
  {
   "cell_type": "code",
   "execution_count": 1,
   "metadata": {},
   "outputs": [],
   "source": [
    "from selenium import webdriver\n",
    "from bs4 import BeautifulSoup\n",
    "import requests\n",
    "import urllib.request\n",
    "import time\n",
    "import sys\n",
    "import os\n",
    "import selenium\n",
    "from selenium import webdriver\n",
    "from selenium.webdriver.common.keys import Keys"
   ]
  },
  {
   "cell_type": "code",
   "execution_count": 31,
   "metadata": {},
   "outputs": [
    {
     "name": "stdout",
     "output_type": "stream",
     "text": [
      "Requirement already satisfied: requests in c:\\users\\acer.000\\anaconda2\\lib\\site-packages (2.22.0)\n",
      "Requirement already satisfied: selenium in c:\\users\\acer.000\\anaconda2\\lib\\site-packages (3.141.0)\n",
      "Requirement already satisfied: urllib3!=1.25.0,!=1.25.1,<1.26,>=1.21.1 in c:\\users\\acer.000\\anaconda2\\lib\\site-packages (from requests) (1.24.2)\n",
      "Requirement already satisfied: chardet<3.1.0,>=3.0.2 in c:\\users\\acer.000\\anaconda2\\lib\\site-packages (from requests) (3.0.4)\n",
      "Requirement already satisfied: certifi>=2017.4.17 in c:\\users\\acer.000\\anaconda2\\lib\\site-packages (from requests) (2019.6.16)\n",
      "Requirement already satisfied: idna<2.9,>=2.5 in c:\\users\\acer.000\\anaconda2\\lib\\site-packages (from requests) (2.8)\n",
      "Note: you may need to restart the kernel to use updated packages.\n"
     ]
    }
   ],
   "source": [
    "pip install requests selenium\n"
   ]
  },
  {
   "cell_type": "code",
   "execution_count": 32,
   "metadata": {},
   "outputs": [
    {
     "name": "stdout",
     "output_type": "stream",
     "text": [
      "Requirement already satisfied: webdriver-manager in c:\\users\\acer.000\\anaconda2\\lib\\site-packages (3.3.0)\n",
      "Requirement already satisfied: configparser in c:\\users\\acer.000\\anaconda2\\lib\\site-packages (from webdriver-manager) (5.0.1)\n",
      "Requirement already satisfied: requests in c:\\users\\acer.000\\anaconda2\\lib\\site-packages (from webdriver-manager) (2.22.0)\n",
      "Requirement already satisfied: crayons in c:\\users\\acer.000\\anaconda2\\lib\\site-packages (from webdriver-manager) (0.4.0)\n",
      "Requirement already satisfied: certifi>=2017.4.17 in c:\\users\\acer.000\\anaconda2\\lib\\site-packages (from requests->webdriver-manager) (2019.6.16)\n",
      "Requirement already satisfied: idna<2.9,>=2.5 in c:\\users\\acer.000\\anaconda2\\lib\\site-packages (from requests->webdriver-manager) (2.8)\n",
      "Requirement already satisfied: chardet<3.1.0,>=3.0.2 in c:\\users\\acer.000\\anaconda2\\lib\\site-packages (from requests->webdriver-manager) (3.0.4)\n",
      "Requirement already satisfied: urllib3!=1.25.0,!=1.25.1,<1.26,>=1.21.1 in c:\\users\\acer.000\\anaconda2\\lib\\site-packages (from requests->webdriver-manager) (1.24.2)\n",
      "Requirement already satisfied: colorama in c:\\users\\acer.000\\anaconda2\\lib\\site-packages (from crayons->webdriver-manager) (0.4.1)\n",
      "Note: you may need to restart the kernel to use updated packages.\n"
     ]
    }
   ],
   "source": [
    "pip install webdriver-manager"
   ]
  },
  {
   "cell_type": "code",
   "execution_count": 2,
   "metadata": {},
   "outputs": [
    {
     "name": "stderr",
     "output_type": "stream",
     "text": [
      "[WDM] - ====== WebDriver manager ======\n",
      "[WDM] - Current google-chrome version is 88.0.4324\n",
      "[WDM] - Get LATEST driver version for 88.0.4324\n"
     ]
    },
    {
     "name": "stdout",
     "output_type": "stream",
     "text": [
      "\n",
      "\n"
     ]
    },
    {
     "name": "stderr",
     "output_type": "stream",
     "text": [
      "[WDM] - Driver [C:\\Users\\ACER.000\\.wdm\\drivers\\chromedriver\\win32\\88.0.4324.96\\chromedriver.exe] found in cache\n",
      "C:\\Users\\ACER.000\\Anaconda2\\lib\\site-packages\\ipykernel_launcher.py:7: DeprecationWarning: use options instead of chrome_options\n",
      "  import sys\n"
     ]
    }
   ],
   "source": [
    "from webdriver_manager.chrome import ChromeDriverManager\n",
    "chrome_options = webdriver.ChromeOptions()\n",
    "chrome_options.add_argument('--no-sandbox')\n",
    "chrome_options.add_argument(\"--disable-extensions\")\n",
    "chrome_options.add_argument(\"--incognito\")\n",
    "DRIVER_PATH = ChromeDriverManager().install()\n",
    "browser = webdriver.Chrome(executable_path=DRIVER_PATH, chrome_options=chrome_options)"
   ]
  },
  {
   "cell_type": "code",
   "execution_count": 60,
   "metadata": {},
   "outputs": [
    {
     "name": "stdout",
     "output_type": "stream",
     "text": [
      "What do you want to download?\n",
      "poker face girl\n"
     ]
    }
   ],
   "source": [
    "#taking user input\n",
    "print(\"What do you want to download?\")\n",
    "download = input()\n",
    "site = 'https://www.google.com/search?tbm=isch&q='+download\n"
   ]
  },
  {
   "cell_type": "code",
   "execution_count": 47,
   "metadata": {},
   "outputs": [
    {
     "name": "stderr",
     "output_type": "stream",
     "text": [
      "[WDM] - ====== WebDriver manager ======\n",
      "[WDM] - Current google-chrome version is 88.0.4324\n",
      "[WDM] - Get LATEST driver version for 88.0.4324\n",
      "[WDM] - Driver [C:\\Users\\ACER.000\\.wdm\\drivers\\chromedriver\\win32\\88.0.4324.96\\chromedriver.exe] found in cache\n"
     ]
    },
    {
     "name": "stdout",
     "output_type": "stream",
     "text": [
      "\n",
      "\n"
     ]
    }
   ],
   "source": [
    "from webdriver_manager.utils import ChromeType\n",
    "\n",
    "driver = webdriver.Chrome(ChromeDriverManager(chrome_type=ChromeType.GOOGLE).install())"
   ]
  },
  {
   "cell_type": "code",
   "execution_count": 61,
   "metadata": {},
   "outputs": [
    {
     "name": "stderr",
     "output_type": "stream",
     "text": [
      "[WDM] - ====== WebDriver manager ======\n",
      "[WDM] - Current google-chrome version is 88.0.4324\n",
      "[WDM] - Get LATEST driver version for 88.0.4324\n"
     ]
    },
    {
     "name": "stdout",
     "output_type": "stream",
     "text": [
      "\n",
      "\n"
     ]
    },
    {
     "name": "stderr",
     "output_type": "stream",
     "text": [
      "[WDM] - Driver [C:\\Users\\ACER.000\\.wdm\\drivers\\chromedriver\\win32\\88.0.4324.96\\chromedriver.exe] found in cache\n"
     ]
    },
    {
     "name": "stdout",
     "output_type": "stream",
     "text": [
      "Number of images downloaded = 1\n",
      "Number of images downloaded = 2\n",
      "Number of images downloaded = 3\n",
      "Number of images downloaded = 4\n",
      "Number of images downloaded = 5\n",
      "Number of images downloaded = 6\n",
      "Number of images downloaded = 7\n",
      "Number of images downloaded = 8\n",
      "Number of images downloaded = 9\n",
      "Number of images downloaded = 10\n",
      "Number of images downloaded = 11\n",
      "Number of images downloaded = 12\n",
      "Number of images downloaded = 13\n",
      "Number of images downloaded = 14\n",
      "Number of images downloaded = 15\n",
      "Number of images downloaded = 16\n",
      "Number of images downloaded = 17\n",
      "Number of images downloaded = 18\n",
      "Number of images downloaded = 19\n",
      "Number of images downloaded = 20\n",
      "Number of images downloaded = 21\n",
      "Number of images downloaded = 22\n",
      "Number of images downloaded = 23\n",
      "Number of images downloaded = 24\n",
      "Number of images downloaded = 25\n",
      "Number of images downloaded = 26\n",
      "Number of images downloaded = 27\n",
      "Number of images downloaded = 28\n",
      "Number of images downloaded = 29\n",
      "Number of images downloaded = 30\n",
      "Number of images downloaded = 31\n",
      "Number of images downloaded = 32\n",
      "Number of images downloaded = 33\n",
      "Number of images downloaded = 34\n",
      "Number of images downloaded = 35\n",
      "Number of images downloaded = 36\n",
      "Number of images downloaded = 37\n",
      "Number of images downloaded = 38\n",
      "Number of images downloaded = 39\n",
      "Number of images downloaded = 40\n",
      "Number of images downloaded = 41\n",
      "Number of images downloaded = 42\n",
      "Number of images downloaded = 43\n",
      "Number of images downloaded = 44\n",
      "Number of images downloaded = 45\n",
      "Number of images downloaded = 46\n",
      "Number of images downloaded = 47\n",
      "Number of images downloaded = 48\n",
      "Number of images downloaded = 49\n",
      "Number of images downloaded = 50\n",
      "Number of images downloaded = 51\n",
      "Number of images downloaded = 52\n",
      "Number of images downloaded = 53\n",
      "Number of images downloaded = 54\n",
      "Number of images downloaded = 55\n",
      "Number of images downloaded = 56\n",
      "Number of images downloaded = 57\n",
      "Number of images downloaded = 58\n",
      "Number of images downloaded = 59\n",
      "Number of images downloaded = 60\n",
      "Number of images downloaded = 61\n",
      "Number of images downloaded = 62\n",
      "Number of images downloaded = 63\n",
      "Number of images downloaded = 64\n",
      "Number of images downloaded = 65\n",
      "Number of images downloaded = 66\n",
      "Number of images downloaded = 67\n",
      "Number of images downloaded = 68\n",
      "Number of images downloaded = 69\n",
      "Number of images downloaded = 70\n",
      "Number of images downloaded = 71\n",
      "Number of images downloaded = 72\n",
      "Number of images downloaded = 73\n",
      "Number of images downloaded = 74\n",
      "Number of images downloaded = 75\n",
      "Number of images downloaded = 76\n",
      "Number of images downloaded = 77\n",
      "Number of images downloaded = 78\n",
      "Number of images downloaded = 79\n",
      "Number of images downloaded = 80\n",
      "Number of images downloaded = 81\n",
      "Number of images downloaded = 82\n",
      "Number of images downloaded = 83\n",
      "Number of images downloaded = 84\n",
      "Number of images downloaded = 85\n",
      "Number of images downloaded = 86\n",
      "Number of images downloaded = 87\n",
      "Number of images downloaded = 88\n",
      "Number of images downloaded = 89\n",
      "Number of images downloaded = 90\n",
      "Number of images downloaded = 91\n",
      "Number of images downloaded = 92\n",
      "Number of images downloaded = 93\n",
      "Number of images downloaded = 94\n",
      "Number of images downloaded = 95\n",
      "Number of images downloaded = 96\n",
      "Number of images downloaded = 97\n",
      "Number of images downloaded = 98\n",
      "Number of images downloaded = 99\n",
      "Number of images downloaded = 100\n",
      "Number of images downloaded = 101\n",
      "Number of images downloaded = 102\n",
      "Number of images downloaded = 103\n",
      "Number of images downloaded = 104\n",
      "Number of images downloaded = 105\n",
      "Number of images downloaded = 106\n",
      "Number of images downloaded = 107\n",
      "Number of images downloaded = 108\n",
      "Number of images downloaded = 109\n",
      "Number of images downloaded = 110\n",
      "Number of images downloaded = 111\n",
      "Number of images downloaded = 112\n",
      "Number of images downloaded = 113\n",
      "Number of images downloaded = 114\n",
      "Number of images downloaded = 115\n",
      "Number of images downloaded = 116\n",
      "Number of images downloaded = 117\n",
      "Number of images downloaded = 118\n",
      "Number of images downloaded = 119\n",
      "Number of images downloaded = 120\n",
      "Number of images downloaded = 121\n",
      "Number of images downloaded = 122\n",
      "Number of images downloaded = 123\n",
      "Number of images downloaded = 124\n",
      "Number of images downloaded = 125\n",
      "Number of images downloaded = 126\n",
      "Number of images downloaded = 127\n",
      "Number of images downloaded = 128\n",
      "Number of images downloaded = 129\n",
      "Number of images downloaded = 130\n",
      "Number of images downloaded = 131\n",
      "Number of images downloaded = 132\n",
      "Number of images downloaded = 133\n",
      "Number of images downloaded = 134\n",
      "Number of images downloaded = 135\n",
      "Number of images downloaded = 136\n",
      "Number of images downloaded = 137\n",
      "Number of images downloaded = 138\n",
      "Number of images downloaded = 139\n",
      "Number of images downloaded = 140\n",
      "Number of images downloaded = 141\n",
      "Number of images downloaded = 142\n",
      "Number of images downloaded = 143\n",
      "Number of images downloaded = 144\n",
      "Number of images downloaded = 145\n",
      "Number of images downloaded = 146\n",
      "Number of images downloaded = 147\n",
      "Number of images downloaded = 148\n",
      "Number of images downloaded = 149\n",
      "Number of images downloaded = 150\n",
      "Number of images downloaded = 151\n",
      "Number of images downloaded = 152\n",
      "Number of images downloaded = 153\n",
      "Number of images downloaded = 154\n",
      "Number of images downloaded = 155\n",
      "Number of images downloaded = 156\n",
      "Number of images downloaded = 157\n",
      "Number of images downloaded = 158\n",
      "Number of images downloaded = 159\n",
      "Number of images downloaded = 160\n",
      "Number of images downloaded = 161\n",
      "Number of images downloaded = 162\n",
      "Number of images downloaded = 163\n",
      "Number of images downloaded = 164\n",
      "Number of images downloaded = 165\n",
      "Number of images downloaded = 166\n",
      "Number of images downloaded = 167\n",
      "Number of images downloaded = 168\n",
      "Number of images downloaded = 169\n",
      "Number of images downloaded = 170\n",
      "Number of images downloaded = 171\n",
      "Number of images downloaded = 172\n",
      "Number of images downloaded = 173\n",
      "Number of images downloaded = 174\n",
      "Number of images downloaded = 175\n",
      "Number of images downloaded = 176\n",
      "Number of images downloaded = 177\n",
      "Number of images downloaded = 178\n",
      "Number of images downloaded = 179\n",
      "Number of images downloaded = 180\n",
      "Number of images downloaded = 181\n",
      "Number of images downloaded = 182\n",
      "Number of images downloaded = 183\n",
      "Number of images downloaded = 184\n",
      "Number of images downloaded = 185\n",
      "Number of images downloaded = 186\n",
      "Number of images downloaded = 187\n",
      "Number of images downloaded = 188\n",
      "Number of images downloaded = 189\n",
      "Number of images downloaded = 190\n",
      "Number of images downloaded = 191\n",
      "Number of images downloaded = 192\n",
      "Number of images downloaded = 193\n",
      "Number of images downloaded = 194\n",
      "Number of images downloaded = 195\n",
      "Number of images downloaded = 196\n",
      "Number of images downloaded = 197\n",
      "Number of images downloaded = 198\n",
      "Number of images downloaded = 199\n",
      "Number of images downloaded = 200\n",
      "Number of images downloaded = 201\n",
      "Number of images downloaded = 202\n",
      "Number of images downloaded = 203\n",
      "Number of images downloaded = 204\n",
      "Number of images downloaded = 205\n",
      "Number of images downloaded = 206\n",
      "Number of images downloaded = 207\n",
      "Number of images downloaded = 208\n",
      "Number of images downloaded = 209\n",
      "Number of images downloaded = 210\n",
      "Number of images downloaded = 211\n",
      "Number of images downloaded = 212\n",
      "Number of images downloaded = 213\n",
      "Number of images downloaded = 214\n",
      "Number of images downloaded = 215\n",
      "Number of images downloaded = 216\n",
      "Number of images downloaded = 217\n",
      "Number of images downloaded = 218\n",
      "Number of images downloaded = 219\n",
      "Number of images downloaded = 220\n",
      "Number of images downloaded = 221\n",
      "Number of images downloaded = 222\n",
      "Number of images downloaded = 223\n",
      "Number of images downloaded = 224\n",
      "Number of images downloaded = 225\n",
      "Number of images downloaded = 226\n",
      "Number of images downloaded = 227\n",
      "Number of images downloaded = 228\n",
      "Number of images downloaded = 229\n",
      "Number of images downloaded = 230\n",
      "Number of images downloaded = 231\n",
      "Number of images downloaded = 232\n",
      "Number of images downloaded = 233\n",
      "Number of images downloaded = 234\n",
      "Number of images downloaded = 235\n",
      "Number of images downloaded = 236\n",
      "Number of images downloaded = 237\n",
      "Number of images downloaded = 238\n",
      "Number of images downloaded = 239\n",
      "Number of images downloaded = 240\n",
      "Number of images downloaded = 241\n",
      "Number of images downloaded = 242\n",
      "Number of images downloaded = 243\n",
      "Number of images downloaded = 244\n",
      "Number of images downloaded = 245\n",
      "Number of images downloaded = 246\n",
      "Number of images downloaded = 247\n",
      "Number of images downloaded = 248\n",
      "Number of images downloaded = 249\n",
      "Number of images downloaded = 250\n",
      "Number of images downloaded = 251\n",
      "Number of images downloaded = 252\n",
      "Number of images downloaded = 253\n",
      "Number of images downloaded = 254\n",
      "Number of images downloaded = 255\n",
      "Number of images downloaded = 256\n",
      "Number of images downloaded = 257\n",
      "Number of images downloaded = 258\n",
      "Number of images downloaded = 259\n",
      "Number of images downloaded = 260\n",
      "Number of images downloaded = 261\n",
      "Number of images downloaded = 262\n",
      "Number of images downloaded = 263\n",
      "Number of images downloaded = 264\n",
      "Number of images downloaded = 265\n",
      "Number of images downloaded = 266\n",
      "Number of images downloaded = 267\n",
      "Number of images downloaded = 268\n",
      "Number of images downloaded = 269\n",
      "Number of images downloaded = 270\n",
      "Number of images downloaded = 271\n",
      "Number of images downloaded = 272\n",
      "Number of images downloaded = 273\n"
     ]
    }
   ],
   "source": [
    "\n",
    "driver = webdriver.Chrome(ChromeDriverManager(chrome_type=ChromeType.GOOGLE).install())\n",
    "\n",
    "driver.get(site)\n",
    "\n",
    "\n",
    "\n",
    "\n",
    "i = 0\n",
    "\n",
    "while i<5:  \n",
    "\n",
    "    driver.execute_script(\"window.scrollBy(0,document.body.scrollHeight)\")\n",
    "    \n",
    "    try:\n",
    "\n",
    "        driver.find_element_by_xpath(\"/html/body/div[2]/c-wiz/div[3]/div[1]/div/div/div/div/div[5]/input\").click()\n",
    "    except Exception as e:\n",
    "        pass\n",
    "    time.sleep(5)\n",
    "    i+=1\n",
    "\n",
    "\n",
    "soup = BeautifulSoup(driver.page_source, 'html.parser')\n",
    "\n",
    "driver.close()\n",
    "\n",
    "img_tags = soup.find_all(\"img\", class_=\"rg_i\")\n",
    "\n",
    "\n",
    "count = 0\n",
    "for i in img_tags:\n",
    "    try:\n",
    "\n",
    "        urllib.request.urlretrieve(i['src'], str(1700+count)+ \".jpg\")## change count\n",
    "        count+=1\n",
    "        print(\"Number of images downloaded = \" + str(count))\n",
    "    except Exception as e:\n",
    "        pass"
   ]
  },
  {
   "cell_type": "code",
   "execution_count": 28,
   "metadata": {},
   "outputs": [
    {
     "data": {
      "text/plain": [
       "'C:\\\\Users\\\\ACER.000'"
      ]
     },
     "execution_count": 28,
     "metadata": {},
     "output_type": "execute_result"
    }
   ],
   "source": [
    "%pwd"
   ]
  },
  {
   "cell_type": "code",
   "execution_count": 55,
   "metadata": {},
   "outputs": [
    {
     "name": "stdout",
     "output_type": "stream",
     "text": [
      "C:\\Users\\ACER.000\\Desktop\\data\\neutral\n"
     ]
    }
   ],
   "source": [
    "cd neutral\n"
   ]
  },
  {
   "cell_type": "code",
   "execution_count": null,
   "metadata": {},
   "outputs": [],
   "source": []
  }
 ],
 "metadata": {
  "kernelspec": {
   "display_name": "Python 3",
   "language": "python",
   "name": "python3"
  },
  "language_info": {
   "codemirror_mode": {
    "name": "ipython",
    "version": 3
   },
   "file_extension": ".py",
   "mimetype": "text/x-python",
   "name": "python",
   "nbconvert_exporter": "python",
   "pygments_lexer": "ipython3",
   "version": "3.7.3"
  }
 },
 "nbformat": 4,
 "nbformat_minor": 4
}
